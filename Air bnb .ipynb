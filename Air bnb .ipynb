{
  "nbformat": 4,
  "nbformat_minor": 0,
  "metadata": {
    "colab": {
      "name": "case study_Ml & Dl.ipynb",
      "provenance": [],
      "collapsed_sections": [],
      "toc_visible": true
    },
    "kernelspec": {
      "name": "python3",
      "display_name": "Python 3"
    },
    "accelerator": "GPU"
  },
  "cells": [
    {
      "cell_type": "code",
      "metadata": {
        "id": "tK_TNaiC7my7"
      },
      "source": [
        "#importing the libraries\n",
        "import pandas as pd\n",
        "import numpy as np"
      ],
      "execution_count": 9,
      "outputs": []
    },
    {
      "cell_type": "code",
      "metadata": {
        "id": "wa2uBM9C1uFj"
      },
      "source": [
        "#loading the data\n",
        "df_train=pd.read_csv(\"/content/train.csv\")"
      ],
      "execution_count": 10,
      "outputs": []
    },
    {
      "cell_type": "code",
      "metadata": {
        "id": "Yqz2ak097s_5"
      },
      "source": [
        "\n",
        "df_test=pd.read_excel(\"/content/test.xlsx\")"
      ],
      "execution_count": 11,
      "outputs": []
    },
    {
      "cell_type": "code",
      "metadata": {
        "colab": {
          "base_uri": "https://localhost:8080/",
          "height": 534
        },
        "id": "uhH0HXTyVhYn",
        "outputId": "ed689593-7df7-4bc7-9485-ac4ac02a5184"
      },
      "source": [
        "df_test.head()"
      ],
      "execution_count": 6,
      "outputs": [
        {
          "output_type": "execute_result",
          "data": {
            "text/html": [
              "<div>\n",
              "<style scoped>\n",
              "    .dataframe tbody tr th:only-of-type {\n",
              "        vertical-align: middle;\n",
              "    }\n",
              "\n",
              "    .dataframe tbody tr th {\n",
              "        vertical-align: top;\n",
              "    }\n",
              "\n",
              "    .dataframe thead th {\n",
              "        text-align: right;\n",
              "    }\n",
              "</style>\n",
              "<table border=\"1\" class=\"dataframe\">\n",
              "  <thead>\n",
              "    <tr style=\"text-align: right;\">\n",
              "      <th></th>\n",
              "      <th>id</th>\n",
              "      <th>property_type</th>\n",
              "      <th>room_type</th>\n",
              "      <th>amenities</th>\n",
              "      <th>accommodates</th>\n",
              "      <th>bathrooms</th>\n",
              "      <th>bed_type</th>\n",
              "      <th>cancellation_policy</th>\n",
              "      <th>cleaning_fee</th>\n",
              "      <th>city</th>\n",
              "      <th>description</th>\n",
              "      <th>first_review</th>\n",
              "      <th>host_has_profile_pic</th>\n",
              "      <th>host_identity_verified</th>\n",
              "      <th>host_response_rate</th>\n",
              "      <th>host_since</th>\n",
              "      <th>instant_bookable</th>\n",
              "      <th>last_review</th>\n",
              "      <th>latitude</th>\n",
              "      <th>longitude</th>\n",
              "      <th>name</th>\n",
              "      <th>neighbourhood</th>\n",
              "      <th>number_of_reviews</th>\n",
              "      <th>review_scores_rating</th>\n",
              "      <th>thumbnail_url</th>\n",
              "      <th>zipcode</th>\n",
              "      <th>bedrooms</th>\n",
              "      <th>beds</th>\n",
              "      <th></th>\n",
              "    </tr>\n",
              "  </thead>\n",
              "  <tbody>\n",
              "    <tr>\n",
              "      <th>0</th>\n",
              "      <td>5979389</td>\n",
              "      <td>Apartment</td>\n",
              "      <td>Private room</td>\n",
              "      <td>{\"Wireless Internet\",\"Air conditioning\",Kitche...</td>\n",
              "      <td>2</td>\n",
              "      <td>1.0</td>\n",
              "      <td>Real Bed</td>\n",
              "      <td>strict</td>\n",
              "      <td>True</td>\n",
              "      <td>NYC</td>\n",
              "      <td>2 bedroom apartment 3 blocks away from the Dek...</td>\n",
              "      <td>NaT</td>\n",
              "      <td>t</td>\n",
              "      <td>t</td>\n",
              "      <td>1.0</td>\n",
              "      <td>2015-05-29</td>\n",
              "      <td>f</td>\n",
              "      <td>NaT</td>\n",
              "      <td>40.705948</td>\n",
              "      <td>-73.915318</td>\n",
              "      <td>Bedroom in Renovated Apartment with Washer/Dryer</td>\n",
              "      <td>Ridgewood</td>\n",
              "      <td>0</td>\n",
              "      <td>NaN</td>\n",
              "      <td>https://a0.muscache.com/im/pictures/b43127ee-b...</td>\n",
              "      <td>11385</td>\n",
              "      <td>1.0</td>\n",
              "      <td>1.0</td>\n",
              "      <td>NaN</td>\n",
              "    </tr>\n",
              "    <tr>\n",
              "      <th>1</th>\n",
              "      <td>13488121</td>\n",
              "      <td>Apartment</td>\n",
              "      <td>Entire home/apt</td>\n",
              "      <td>{TV,\"Cable TV\",Internet,\"Wireless Internet\",\"A...</td>\n",
              "      <td>4</td>\n",
              "      <td>1.0</td>\n",
              "      <td>Real Bed</td>\n",
              "      <td>moderate</td>\n",
              "      <td>True</td>\n",
              "      <td>LA</td>\n",
              "      <td>This 2015 renovation was done with an eye to b...</td>\n",
              "      <td>2015-11-16</td>\n",
              "      <td>t</td>\n",
              "      <td>t</td>\n",
              "      <td>1.0</td>\n",
              "      <td>2015-08-17</td>\n",
              "      <td>f</td>\n",
              "      <td>2017-04-23</td>\n",
              "      <td>34.118408</td>\n",
              "      <td>-118.317929</td>\n",
              "      <td>Peaceful and Quiet Hollywood Hills</td>\n",
              "      <td>Hollywood Hills</td>\n",
              "      <td>24</td>\n",
              "      <td>100.0</td>\n",
              "      <td>https://a0.muscache.com/im/pictures/894d8ca5-7...</td>\n",
              "      <td>90068</td>\n",
              "      <td>1.0</td>\n",
              "      <td>1.0</td>\n",
              "      <td>NaN</td>\n",
              "    </tr>\n",
              "    <tr>\n",
              "      <th>2</th>\n",
              "      <td>8121643</td>\n",
              "      <td>Apartment</td>\n",
              "      <td>Private room</td>\n",
              "      <td>{TV,\"Cable TV\",Internet,\"Wireless Internet\",\"A...</td>\n",
              "      <td>2</td>\n",
              "      <td>1.0</td>\n",
              "      <td>Real Bed</td>\n",
              "      <td>flexible</td>\n",
              "      <td>False</td>\n",
              "      <td>NYC</td>\n",
              "      <td>Apt features shared living room w/ Apple TV.  ...</td>\n",
              "      <td>NaT</td>\n",
              "      <td>t</td>\n",
              "      <td>f</td>\n",
              "      <td>NaN</td>\n",
              "      <td>2012-06-18</td>\n",
              "      <td>f</td>\n",
              "      <td>NaT</td>\n",
              "      <td>40.707888</td>\n",
              "      <td>-74.015211</td>\n",
              "      <td>Luxury, doorman Building- FIDI</td>\n",
              "      <td>Financial District</td>\n",
              "      <td>0</td>\n",
              "      <td>NaN</td>\n",
              "      <td>NaN</td>\n",
              "      <td>10006</td>\n",
              "      <td>1.0</td>\n",
              "      <td>1.0</td>\n",
              "      <td>NaN</td>\n",
              "    </tr>\n",
              "    <tr>\n",
              "      <th>3</th>\n",
              "      <td>16490010</td>\n",
              "      <td>Apartment</td>\n",
              "      <td>Private room</td>\n",
              "      <td>{Internet,\"Wireless Internet\",\"Air conditionin...</td>\n",
              "      <td>2</td>\n",
              "      <td>1.0</td>\n",
              "      <td>Real Bed</td>\n",
              "      <td>flexible</td>\n",
              "      <td>True</td>\n",
              "      <td>NYC</td>\n",
              "      <td>Our home is equidistance to the L and G trains...</td>\n",
              "      <td>2016-09-29</td>\n",
              "      <td>t</td>\n",
              "      <td>t</td>\n",
              "      <td>1.0</td>\n",
              "      <td>2011-12-12</td>\n",
              "      <td>f</td>\n",
              "      <td>2017-09-24</td>\n",
              "      <td>40.721388</td>\n",
              "      <td>-73.945642</td>\n",
              "      <td>Cozy room in sunny historic Greenpoint home</td>\n",
              "      <td>Greenpoint</td>\n",
              "      <td>12</td>\n",
              "      <td>98.0</td>\n",
              "      <td>https://a0.muscache.com/im/pictures/6c99615c-4...</td>\n",
              "      <td>11222</td>\n",
              "      <td>1.0</td>\n",
              "      <td>1.0</td>\n",
              "      <td>NaN</td>\n",
              "    </tr>\n",
              "    <tr>\n",
              "      <th>4</th>\n",
              "      <td>16274069</td>\n",
              "      <td>Apartment</td>\n",
              "      <td>Entire home/apt</td>\n",
              "      <td>{TV,Internet,\"Wireless Internet\",\"Air conditio...</td>\n",
              "      <td>4</td>\n",
              "      <td>1.0</td>\n",
              "      <td>Real Bed</td>\n",
              "      <td>moderate</td>\n",
              "      <td>True</td>\n",
              "      <td>NYC</td>\n",
              "      <td>JUST 20 MINUTES BY TRAIN TO MANHATTAN - AFFORD...</td>\n",
              "      <td>2015-01-05</td>\n",
              "      <td>t</td>\n",
              "      <td>f</td>\n",
              "      <td>1.0</td>\n",
              "      <td>2014-11-02</td>\n",
              "      <td>f</td>\n",
              "      <td>2017-09-14</td>\n",
              "      <td>40.682556</td>\n",
              "      <td>-73.943259</td>\n",
              "      <td>B's Suite</td>\n",
              "      <td>Bedford-Stuyvesant</td>\n",
              "      <td>13</td>\n",
              "      <td>92.0</td>\n",
              "      <td>https://a0.muscache.com/im/pictures/56275358/c...</td>\n",
              "      <td>11216</td>\n",
              "      <td>2.0</td>\n",
              "      <td>3.0</td>\n",
              "      <td>NaN</td>\n",
              "    </tr>\n",
              "  </tbody>\n",
              "</table>\n",
              "</div>"
            ],
            "text/plain": [
              "         id property_type        room_type  ... bedrooms  beds    \n",
              "0   5979389     Apartment     Private room  ...      1.0   1.0 NaN\n",
              "1  13488121     Apartment  Entire home/apt  ...      1.0   1.0 NaN\n",
              "2   8121643     Apartment     Private room  ...      1.0   1.0 NaN\n",
              "3  16490010     Apartment     Private room  ...      1.0   1.0 NaN\n",
              "4  16274069     Apartment  Entire home/apt  ...      2.0   3.0 NaN\n",
              "\n",
              "[5 rows x 29 columns]"
            ]
          },
          "metadata": {
            "tags": []
          },
          "execution_count": 6
        }
      ]
    },
    {
      "cell_type": "code",
      "metadata": {
        "colab": {
          "base_uri": "https://localhost:8080/",
          "height": 551
        },
        "id": "r70qbsX-_z3J",
        "outputId": "fcc0fb6b-70b2-42dc-f25e-7013da8c4f9b"
      },
      "source": [
        "df_train.head()"
      ],
      "execution_count": 7,
      "outputs": [
        {
          "output_type": "execute_result",
          "data": {
            "text/html": [
              "<div>\n",
              "<style scoped>\n",
              "    .dataframe tbody tr th:only-of-type {\n",
              "        vertical-align: middle;\n",
              "    }\n",
              "\n",
              "    .dataframe tbody tr th {\n",
              "        vertical-align: top;\n",
              "    }\n",
              "\n",
              "    .dataframe thead th {\n",
              "        text-align: right;\n",
              "    }\n",
              "</style>\n",
              "<table border=\"1\" class=\"dataframe\">\n",
              "  <thead>\n",
              "    <tr style=\"text-align: right;\">\n",
              "      <th></th>\n",
              "      <th>id</th>\n",
              "      <th>property_type</th>\n",
              "      <th>room_type</th>\n",
              "      <th>amenities</th>\n",
              "      <th>accommodates</th>\n",
              "      <th>bathrooms</th>\n",
              "      <th>bed_type</th>\n",
              "      <th>cancellation_policy</th>\n",
              "      <th>cleaning_fee</th>\n",
              "      <th>city</th>\n",
              "      <th>description</th>\n",
              "      <th>first_review</th>\n",
              "      <th>host_has_profile_pic</th>\n",
              "      <th>host_identity_verified</th>\n",
              "      <th>host_response_rate</th>\n",
              "      <th>host_since</th>\n",
              "      <th>instant_bookable</th>\n",
              "      <th>last_review</th>\n",
              "      <th>latitude</th>\n",
              "      <th>longitude</th>\n",
              "      <th>name</th>\n",
              "      <th>neighbourhood</th>\n",
              "      <th>number_of_reviews</th>\n",
              "      <th>review_scores_rating</th>\n",
              "      <th>thumbnail_url</th>\n",
              "      <th>zipcode</th>\n",
              "      <th>bedrooms</th>\n",
              "      <th>beds</th>\n",
              "      <th>log_price</th>\n",
              "      <th></th>\n",
              "    </tr>\n",
              "  </thead>\n",
              "  <tbody>\n",
              "    <tr>\n",
              "      <th>0</th>\n",
              "      <td>6901257</td>\n",
              "      <td>Apartment</td>\n",
              "      <td>Entire home/apt</td>\n",
              "      <td>{\"Wireless Internet\",\"Air conditioning\",Kitche...</td>\n",
              "      <td>3</td>\n",
              "      <td>1.0</td>\n",
              "      <td>Real Bed</td>\n",
              "      <td>strict</td>\n",
              "      <td>True</td>\n",
              "      <td>NYC</td>\n",
              "      <td>Beautiful, sunlit brownstone 1-bedroom in the ...</td>\n",
              "      <td>6/18/2016</td>\n",
              "      <td>t</td>\n",
              "      <td>t</td>\n",
              "      <td>NaN</td>\n",
              "      <td>3/26/2012</td>\n",
              "      <td>f</td>\n",
              "      <td>7/18/2016</td>\n",
              "      <td>40.696524</td>\n",
              "      <td>-73.991617</td>\n",
              "      <td>Beautiful brownstone 1-bedroom</td>\n",
              "      <td>Brooklyn Heights</td>\n",
              "      <td>2</td>\n",
              "      <td>100.0</td>\n",
              "      <td>https://a0.muscache.com/im/pictures/6d7cbbf7-c...</td>\n",
              "      <td>11201</td>\n",
              "      <td>1.0</td>\n",
              "      <td>1.0</td>\n",
              "      <td>5.010635</td>\n",
              "      <td>NaN</td>\n",
              "    </tr>\n",
              "    <tr>\n",
              "      <th>1</th>\n",
              "      <td>6304928</td>\n",
              "      <td>Apartment</td>\n",
              "      <td>Entire home/apt</td>\n",
              "      <td>{\"Wireless Internet\",\"Air conditioning\",Kitche...</td>\n",
              "      <td>7</td>\n",
              "      <td>1.0</td>\n",
              "      <td>Real Bed</td>\n",
              "      <td>strict</td>\n",
              "      <td>True</td>\n",
              "      <td>NYC</td>\n",
              "      <td>Enjoy travelling during your stay in Manhattan...</td>\n",
              "      <td>8/5/2017</td>\n",
              "      <td>t</td>\n",
              "      <td>f</td>\n",
              "      <td>100%</td>\n",
              "      <td>6/19/2017</td>\n",
              "      <td>t</td>\n",
              "      <td>9/23/2017</td>\n",
              "      <td>40.766115</td>\n",
              "      <td>-73.989040</td>\n",
              "      <td>Superb 3BR Apt Located Near Times Square</td>\n",
              "      <td>Hell's Kitchen</td>\n",
              "      <td>6</td>\n",
              "      <td>93.0</td>\n",
              "      <td>https://a0.muscache.com/im/pictures/348a55fe-4...</td>\n",
              "      <td>10019</td>\n",
              "      <td>3.0</td>\n",
              "      <td>3.0</td>\n",
              "      <td>5.129899</td>\n",
              "      <td>NaN</td>\n",
              "    </tr>\n",
              "    <tr>\n",
              "      <th>2</th>\n",
              "      <td>7919400</td>\n",
              "      <td>Apartment</td>\n",
              "      <td>Entire home/apt</td>\n",
              "      <td>{TV,\"Cable TV\",\"Wireless Internet\",\"Air condit...</td>\n",
              "      <td>5</td>\n",
              "      <td>1.0</td>\n",
              "      <td>Real Bed</td>\n",
              "      <td>moderate</td>\n",
              "      <td>True</td>\n",
              "      <td>NYC</td>\n",
              "      <td>The Oasis comes complete with a full backyard ...</td>\n",
              "      <td>4/30/2017</td>\n",
              "      <td>t</td>\n",
              "      <td>t</td>\n",
              "      <td>100%</td>\n",
              "      <td>10/25/2016</td>\n",
              "      <td>t</td>\n",
              "      <td>9/14/2017</td>\n",
              "      <td>40.808110</td>\n",
              "      <td>-73.943756</td>\n",
              "      <td>The Garden Oasis</td>\n",
              "      <td>Harlem</td>\n",
              "      <td>10</td>\n",
              "      <td>92.0</td>\n",
              "      <td>https://a0.muscache.com/im/pictures/6fae5362-9...</td>\n",
              "      <td>10027</td>\n",
              "      <td>1.0</td>\n",
              "      <td>3.0</td>\n",
              "      <td>4.976734</td>\n",
              "      <td>NaN</td>\n",
              "    </tr>\n",
              "    <tr>\n",
              "      <th>3</th>\n",
              "      <td>13418779</td>\n",
              "      <td>House</td>\n",
              "      <td>Entire home/apt</td>\n",
              "      <td>{TV,\"Cable TV\",Internet,\"Wireless Internet\",Ki...</td>\n",
              "      <td>4</td>\n",
              "      <td>1.0</td>\n",
              "      <td>Real Bed</td>\n",
              "      <td>flexible</td>\n",
              "      <td>True</td>\n",
              "      <td>SF</td>\n",
              "      <td>This light-filled home-away-from-home is super...</td>\n",
              "      <td>NaN</td>\n",
              "      <td>t</td>\n",
              "      <td>t</td>\n",
              "      <td>NaN</td>\n",
              "      <td>4/19/2015</td>\n",
              "      <td>f</td>\n",
              "      <td>NaN</td>\n",
              "      <td>37.772004</td>\n",
              "      <td>-122.431619</td>\n",
              "      <td>Beautiful Flat in the Heart of SF!</td>\n",
              "      <td>Lower Haight</td>\n",
              "      <td>0</td>\n",
              "      <td>NaN</td>\n",
              "      <td>https://a0.muscache.com/im/pictures/72208dad-9...</td>\n",
              "      <td>94117</td>\n",
              "      <td>2.0</td>\n",
              "      <td>2.0</td>\n",
              "      <td>6.620073</td>\n",
              "      <td>NaN</td>\n",
              "    </tr>\n",
              "    <tr>\n",
              "      <th>4</th>\n",
              "      <td>3808709</td>\n",
              "      <td>Apartment</td>\n",
              "      <td>Entire home/apt</td>\n",
              "      <td>{TV,Internet,\"Wireless Internet\",\"Air conditio...</td>\n",
              "      <td>2</td>\n",
              "      <td>1.0</td>\n",
              "      <td>Real Bed</td>\n",
              "      <td>moderate</td>\n",
              "      <td>True</td>\n",
              "      <td>DC</td>\n",
              "      <td>Cool, cozy, and comfortable studio located in ...</td>\n",
              "      <td>5/12/2015</td>\n",
              "      <td>t</td>\n",
              "      <td>t</td>\n",
              "      <td>100%</td>\n",
              "      <td>3/1/2015</td>\n",
              "      <td>t</td>\n",
              "      <td>1/22/2017</td>\n",
              "      <td>38.925627</td>\n",
              "      <td>-77.034596</td>\n",
              "      <td>Great studio in midtown DC</td>\n",
              "      <td>Columbia Heights</td>\n",
              "      <td>4</td>\n",
              "      <td>40.0</td>\n",
              "      <td>NaN</td>\n",
              "      <td>20009</td>\n",
              "      <td>0.0</td>\n",
              "      <td>1.0</td>\n",
              "      <td>4.744932</td>\n",
              "      <td>NaN</td>\n",
              "    </tr>\n",
              "  </tbody>\n",
              "</table>\n",
              "</div>"
            ],
            "text/plain": [
              "         id property_type        room_type  ... beds  log_price    \n",
              "0   6901257     Apartment  Entire home/apt  ...  1.0   5.010635 NaN\n",
              "1   6304928     Apartment  Entire home/apt  ...  3.0   5.129899 NaN\n",
              "2   7919400     Apartment  Entire home/apt  ...  3.0   4.976734 NaN\n",
              "3  13418779         House  Entire home/apt  ...  2.0   6.620073 NaN\n",
              "4   3808709     Apartment  Entire home/apt  ...  1.0   4.744932 NaN\n",
              "\n",
              "[5 rows x 30 columns]"
            ]
          },
          "metadata": {
            "tags": []
          },
          "execution_count": 7
        }
      ]
    },
    {
      "cell_type": "markdown",
      "metadata": {
        "id": "0mGs3J0trBUW"
      },
      "source": [
        "# Data preparation"
      ]
    },
    {
      "cell_type": "code",
      "metadata": {
        "id": "nmGhYrIL0lLh"
      },
      "source": [
        "Id=df_test['id']"
      ],
      "execution_count": 12,
      "outputs": []
    },
    {
      "cell_type": "code",
      "metadata": {
        "colab": {
          "base_uri": "https://localhost:8080/",
          "height": 422
        },
        "id": "qL2cXygA_6IK",
        "outputId": "8debe7e8-99f4-4064-a6f9-2312f7749e66"
      },
      "source": [
        "df_train.corr()"
      ],
      "execution_count": 13,
      "outputs": [
        {
          "output_type": "execute_result",
          "data": {
            "text/html": [
              "<div>\n",
              "<style scoped>\n",
              "    .dataframe tbody tr th:only-of-type {\n",
              "        vertical-align: middle;\n",
              "    }\n",
              "\n",
              "    .dataframe tbody tr th {\n",
              "        vertical-align: top;\n",
              "    }\n",
              "\n",
              "    .dataframe thead th {\n",
              "        text-align: right;\n",
              "    }\n",
              "</style>\n",
              "<table border=\"1\" class=\"dataframe\">\n",
              "  <thead>\n",
              "    <tr style=\"text-align: right;\">\n",
              "      <th></th>\n",
              "      <th>id</th>\n",
              "      <th>accommodates</th>\n",
              "      <th>bathrooms</th>\n",
              "      <th>cleaning_fee</th>\n",
              "      <th>latitude</th>\n",
              "      <th>longitude</th>\n",
              "      <th>number_of_reviews</th>\n",
              "      <th>review_scores_rating</th>\n",
              "      <th>bedrooms</th>\n",
              "      <th>beds</th>\n",
              "      <th>log_price</th>\n",
              "      <th></th>\n",
              "    </tr>\n",
              "  </thead>\n",
              "  <tbody>\n",
              "    <tr>\n",
              "      <th>id</th>\n",
              "      <td>1.000000</td>\n",
              "      <td>-0.003457</td>\n",
              "      <td>0.002840</td>\n",
              "      <td>-0.003461</td>\n",
              "      <td>-0.005709</td>\n",
              "      <td>-0.003627</td>\n",
              "      <td>0.002851</td>\n",
              "      <td>0.001507</td>\n",
              "      <td>-0.004455</td>\n",
              "      <td>-0.007599</td>\n",
              "      <td>-0.000612</td>\n",
              "      <td>NaN</td>\n",
              "    </tr>\n",
              "    <tr>\n",
              "      <th>accommodates</th>\n",
              "      <td>-0.003457</td>\n",
              "      <td>1.000000</td>\n",
              "      <td>0.500622</td>\n",
              "      <td>0.181031</td>\n",
              "      <td>-0.083503</td>\n",
              "      <td>-0.087522</td>\n",
              "      <td>0.040093</td>\n",
              "      <td>-0.016286</td>\n",
              "      <td>0.707357</td>\n",
              "      <td>0.807453</td>\n",
              "      <td>0.568918</td>\n",
              "      <td>NaN</td>\n",
              "    </tr>\n",
              "    <tr>\n",
              "      <th>bathrooms</th>\n",
              "      <td>0.002840</td>\n",
              "      <td>0.500622</td>\n",
              "      <td>1.000000</td>\n",
              "      <td>0.055397</td>\n",
              "      <td>-0.144134</td>\n",
              "      <td>-0.139354</td>\n",
              "      <td>-0.039583</td>\n",
              "      <td>0.011580</td>\n",
              "      <td>0.583860</td>\n",
              "      <td>0.521524</td>\n",
              "      <td>0.348615</td>\n",
              "      <td>NaN</td>\n",
              "    </tr>\n",
              "    <tr>\n",
              "      <th>cleaning_fee</th>\n",
              "      <td>-0.003461</td>\n",
              "      <td>0.181031</td>\n",
              "      <td>0.055397</td>\n",
              "      <td>1.000000</td>\n",
              "      <td>-0.067513</td>\n",
              "      <td>-0.075443</td>\n",
              "      <td>0.106926</td>\n",
              "      <td>0.037181</td>\n",
              "      <td>0.105744</td>\n",
              "      <td>0.131194</td>\n",
              "      <td>0.109189</td>\n",
              "      <td>NaN</td>\n",
              "    </tr>\n",
              "    <tr>\n",
              "      <th>latitude</th>\n",
              "      <td>-0.005709</td>\n",
              "      <td>-0.083503</td>\n",
              "      <td>-0.144134</td>\n",
              "      <td>-0.067513</td>\n",
              "      <td>1.000000</td>\n",
              "      <td>0.896159</td>\n",
              "      <td>-0.019199</td>\n",
              "      <td>-0.034806</td>\n",
              "      <td>-0.062963</td>\n",
              "      <td>-0.084650</td>\n",
              "      <td>-0.005984</td>\n",
              "      <td>NaN</td>\n",
              "    </tr>\n",
              "    <tr>\n",
              "      <th>longitude</th>\n",
              "      <td>-0.003627</td>\n",
              "      <td>-0.087522</td>\n",
              "      <td>-0.139354</td>\n",
              "      <td>-0.075443</td>\n",
              "      <td>0.896159</td>\n",
              "      <td>1.000000</td>\n",
              "      <td>-0.051895</td>\n",
              "      <td>-0.051965</td>\n",
              "      <td>-0.076498</td>\n",
              "      <td>-0.084245</td>\n",
              "      <td>-0.049679</td>\n",
              "      <td>NaN</td>\n",
              "    </tr>\n",
              "    <tr>\n",
              "      <th>number_of_reviews</th>\n",
              "      <td>0.002851</td>\n",
              "      <td>0.040093</td>\n",
              "      <td>-0.039583</td>\n",
              "      <td>0.106926</td>\n",
              "      <td>-0.019199</td>\n",
              "      <td>-0.051895</td>\n",
              "      <td>1.000000</td>\n",
              "      <td>0.014217</td>\n",
              "      <td>-0.034978</td>\n",
              "      <td>0.030536</td>\n",
              "      <td>-0.029925</td>\n",
              "      <td>NaN</td>\n",
              "    </tr>\n",
              "    <tr>\n",
              "      <th>review_scores_rating</th>\n",
              "      <td>0.001507</td>\n",
              "      <td>-0.016286</td>\n",
              "      <td>0.011580</td>\n",
              "      <td>0.037181</td>\n",
              "      <td>-0.034806</td>\n",
              "      <td>-0.051965</td>\n",
              "      <td>0.014217</td>\n",
              "      <td>1.000000</td>\n",
              "      <td>0.008241</td>\n",
              "      <td>-0.028997</td>\n",
              "      <td>0.091194</td>\n",
              "      <td>NaN</td>\n",
              "    </tr>\n",
              "    <tr>\n",
              "      <th>bedrooms</th>\n",
              "      <td>-0.004455</td>\n",
              "      <td>0.707357</td>\n",
              "      <td>0.583860</td>\n",
              "      <td>0.105744</td>\n",
              "      <td>-0.062963</td>\n",
              "      <td>-0.076498</td>\n",
              "      <td>-0.034978</td>\n",
              "      <td>0.008241</td>\n",
              "      <td>1.000000</td>\n",
              "      <td>0.711560</td>\n",
              "      <td>0.474068</td>\n",
              "      <td>NaN</td>\n",
              "    </tr>\n",
              "    <tr>\n",
              "      <th>beds</th>\n",
              "      <td>-0.007599</td>\n",
              "      <td>0.807453</td>\n",
              "      <td>0.521524</td>\n",
              "      <td>0.131194</td>\n",
              "      <td>-0.084650</td>\n",
              "      <td>-0.084245</td>\n",
              "      <td>0.030536</td>\n",
              "      <td>-0.028997</td>\n",
              "      <td>0.711560</td>\n",
              "      <td>1.000000</td>\n",
              "      <td>0.444780</td>\n",
              "      <td>NaN</td>\n",
              "    </tr>\n",
              "    <tr>\n",
              "      <th>log_price</th>\n",
              "      <td>-0.000612</td>\n",
              "      <td>0.568918</td>\n",
              "      <td>0.348615</td>\n",
              "      <td>0.109189</td>\n",
              "      <td>-0.005984</td>\n",
              "      <td>-0.049679</td>\n",
              "      <td>-0.029925</td>\n",
              "      <td>0.091194</td>\n",
              "      <td>0.474068</td>\n",
              "      <td>0.444780</td>\n",
              "      <td>1.000000</td>\n",
              "      <td>NaN</td>\n",
              "    </tr>\n",
              "    <tr>\n",
              "      <th></th>\n",
              "      <td>NaN</td>\n",
              "      <td>NaN</td>\n",
              "      <td>NaN</td>\n",
              "      <td>NaN</td>\n",
              "      <td>NaN</td>\n",
              "      <td>NaN</td>\n",
              "      <td>NaN</td>\n",
              "      <td>NaN</td>\n",
              "      <td>NaN</td>\n",
              "      <td>NaN</td>\n",
              "      <td>NaN</td>\n",
              "      <td>NaN</td>\n",
              "    </tr>\n",
              "  </tbody>\n",
              "</table>\n",
              "</div>"
            ],
            "text/plain": [
              "                            id  accommodates  ...  log_price    \n",
              "id                    1.000000     -0.003457  ...  -0.000612 NaN\n",
              "accommodates         -0.003457      1.000000  ...   0.568918 NaN\n",
              "bathrooms             0.002840      0.500622  ...   0.348615 NaN\n",
              "cleaning_fee         -0.003461      0.181031  ...   0.109189 NaN\n",
              "latitude             -0.005709     -0.083503  ...  -0.005984 NaN\n",
              "longitude            -0.003627     -0.087522  ...  -0.049679 NaN\n",
              "number_of_reviews     0.002851      0.040093  ...  -0.029925 NaN\n",
              "review_scores_rating  0.001507     -0.016286  ...   0.091194 NaN\n",
              "bedrooms             -0.004455      0.707357  ...   0.474068 NaN\n",
              "beds                 -0.007599      0.807453  ...   0.444780 NaN\n",
              "log_price            -0.000612      0.568918  ...   1.000000 NaN\n",
              "                           NaN           NaN  ...        NaN NaN\n",
              "\n",
              "[12 rows x 12 columns]"
            ]
          },
          "metadata": {
            "tags": []
          },
          "execution_count": 13
        }
      ]
    },
    {
      "cell_type": "code",
      "metadata": {
        "id": "UwHKUDlyAJOR"
      },
      "source": [
        "#elemenating the unwanted features\n",
        "\n",
        "df_train=df_train.drop(['first_review','host_response_rate'\n",
        ",'last_review','thumbnail_url','zipcode',' '],axis=1)\n",
        "\n",
        "df_train=df_train.drop(['amenities','host_has_profile_pic','neighbourhood',\n",
        "'host_identity_verified','host_since','name','id'],axis=1)"
      ],
      "execution_count": 14,
      "outputs": []
    },
    {
      "cell_type": "code",
      "metadata": {
        "id": "L8c8hygYByM3"
      },
      "source": [
        "df_test=df_test.drop(['first_review','host_response_rate'\n",
        ",'last_review','thumbnail_url','zipcode',' '],axis=1)\n",
        "\n",
        "df_test=df_test.drop(['amenities','host_has_profile_pic','neighbourhood',\n",
        "'host_identity_verified','host_since','name','id'],axis=1)"
      ],
      "execution_count": 15,
      "outputs": []
    },
    {
      "cell_type": "code",
      "metadata": {
        "colab": {
          "base_uri": "https://localhost:8080/",
          "height": 363
        },
        "id": "QGfeo22pDMZr",
        "outputId": "395f3a8b-fa94-4733-9db4-11e5c6111c85"
      },
      "source": [
        "df_train.corr()"
      ],
      "execution_count": 16,
      "outputs": [
        {
          "output_type": "execute_result",
          "data": {
            "text/html": [
              "<div>\n",
              "<style scoped>\n",
              "    .dataframe tbody tr th:only-of-type {\n",
              "        vertical-align: middle;\n",
              "    }\n",
              "\n",
              "    .dataframe tbody tr th {\n",
              "        vertical-align: top;\n",
              "    }\n",
              "\n",
              "    .dataframe thead th {\n",
              "        text-align: right;\n",
              "    }\n",
              "</style>\n",
              "<table border=\"1\" class=\"dataframe\">\n",
              "  <thead>\n",
              "    <tr style=\"text-align: right;\">\n",
              "      <th></th>\n",
              "      <th>accommodates</th>\n",
              "      <th>bathrooms</th>\n",
              "      <th>cleaning_fee</th>\n",
              "      <th>latitude</th>\n",
              "      <th>longitude</th>\n",
              "      <th>number_of_reviews</th>\n",
              "      <th>review_scores_rating</th>\n",
              "      <th>bedrooms</th>\n",
              "      <th>beds</th>\n",
              "      <th>log_price</th>\n",
              "    </tr>\n",
              "  </thead>\n",
              "  <tbody>\n",
              "    <tr>\n",
              "      <th>accommodates</th>\n",
              "      <td>1.000000</td>\n",
              "      <td>0.500622</td>\n",
              "      <td>0.181031</td>\n",
              "      <td>-0.083503</td>\n",
              "      <td>-0.087522</td>\n",
              "      <td>0.040093</td>\n",
              "      <td>-0.016286</td>\n",
              "      <td>0.707357</td>\n",
              "      <td>0.807453</td>\n",
              "      <td>0.568918</td>\n",
              "    </tr>\n",
              "    <tr>\n",
              "      <th>bathrooms</th>\n",
              "      <td>0.500622</td>\n",
              "      <td>1.000000</td>\n",
              "      <td>0.055397</td>\n",
              "      <td>-0.144134</td>\n",
              "      <td>-0.139354</td>\n",
              "      <td>-0.039583</td>\n",
              "      <td>0.011580</td>\n",
              "      <td>0.583860</td>\n",
              "      <td>0.521524</td>\n",
              "      <td>0.348615</td>\n",
              "    </tr>\n",
              "    <tr>\n",
              "      <th>cleaning_fee</th>\n",
              "      <td>0.181031</td>\n",
              "      <td>0.055397</td>\n",
              "      <td>1.000000</td>\n",
              "      <td>-0.067513</td>\n",
              "      <td>-0.075443</td>\n",
              "      <td>0.106926</td>\n",
              "      <td>0.037181</td>\n",
              "      <td>0.105744</td>\n",
              "      <td>0.131194</td>\n",
              "      <td>0.109189</td>\n",
              "    </tr>\n",
              "    <tr>\n",
              "      <th>latitude</th>\n",
              "      <td>-0.083503</td>\n",
              "      <td>-0.144134</td>\n",
              "      <td>-0.067513</td>\n",
              "      <td>1.000000</td>\n",
              "      <td>0.896159</td>\n",
              "      <td>-0.019199</td>\n",
              "      <td>-0.034806</td>\n",
              "      <td>-0.062963</td>\n",
              "      <td>-0.084650</td>\n",
              "      <td>-0.005984</td>\n",
              "    </tr>\n",
              "    <tr>\n",
              "      <th>longitude</th>\n",
              "      <td>-0.087522</td>\n",
              "      <td>-0.139354</td>\n",
              "      <td>-0.075443</td>\n",
              "      <td>0.896159</td>\n",
              "      <td>1.000000</td>\n",
              "      <td>-0.051895</td>\n",
              "      <td>-0.051965</td>\n",
              "      <td>-0.076498</td>\n",
              "      <td>-0.084245</td>\n",
              "      <td>-0.049679</td>\n",
              "    </tr>\n",
              "    <tr>\n",
              "      <th>number_of_reviews</th>\n",
              "      <td>0.040093</td>\n",
              "      <td>-0.039583</td>\n",
              "      <td>0.106926</td>\n",
              "      <td>-0.019199</td>\n",
              "      <td>-0.051895</td>\n",
              "      <td>1.000000</td>\n",
              "      <td>0.014217</td>\n",
              "      <td>-0.034978</td>\n",
              "      <td>0.030536</td>\n",
              "      <td>-0.029925</td>\n",
              "    </tr>\n",
              "    <tr>\n",
              "      <th>review_scores_rating</th>\n",
              "      <td>-0.016286</td>\n",
              "      <td>0.011580</td>\n",
              "      <td>0.037181</td>\n",
              "      <td>-0.034806</td>\n",
              "      <td>-0.051965</td>\n",
              "      <td>0.014217</td>\n",
              "      <td>1.000000</td>\n",
              "      <td>0.008241</td>\n",
              "      <td>-0.028997</td>\n",
              "      <td>0.091194</td>\n",
              "    </tr>\n",
              "    <tr>\n",
              "      <th>bedrooms</th>\n",
              "      <td>0.707357</td>\n",
              "      <td>0.583860</td>\n",
              "      <td>0.105744</td>\n",
              "      <td>-0.062963</td>\n",
              "      <td>-0.076498</td>\n",
              "      <td>-0.034978</td>\n",
              "      <td>0.008241</td>\n",
              "      <td>1.000000</td>\n",
              "      <td>0.711560</td>\n",
              "      <td>0.474068</td>\n",
              "    </tr>\n",
              "    <tr>\n",
              "      <th>beds</th>\n",
              "      <td>0.807453</td>\n",
              "      <td>0.521524</td>\n",
              "      <td>0.131194</td>\n",
              "      <td>-0.084650</td>\n",
              "      <td>-0.084245</td>\n",
              "      <td>0.030536</td>\n",
              "      <td>-0.028997</td>\n",
              "      <td>0.711560</td>\n",
              "      <td>1.000000</td>\n",
              "      <td>0.444780</td>\n",
              "    </tr>\n",
              "    <tr>\n",
              "      <th>log_price</th>\n",
              "      <td>0.568918</td>\n",
              "      <td>0.348615</td>\n",
              "      <td>0.109189</td>\n",
              "      <td>-0.005984</td>\n",
              "      <td>-0.049679</td>\n",
              "      <td>-0.029925</td>\n",
              "      <td>0.091194</td>\n",
              "      <td>0.474068</td>\n",
              "      <td>0.444780</td>\n",
              "      <td>1.000000</td>\n",
              "    </tr>\n",
              "  </tbody>\n",
              "</table>\n",
              "</div>"
            ],
            "text/plain": [
              "                      accommodates  bathrooms  ...      beds  log_price\n",
              "accommodates              1.000000   0.500622  ...  0.807453   0.568918\n",
              "bathrooms                 0.500622   1.000000  ...  0.521524   0.348615\n",
              "cleaning_fee              0.181031   0.055397  ...  0.131194   0.109189\n",
              "latitude                 -0.083503  -0.144134  ... -0.084650  -0.005984\n",
              "longitude                -0.087522  -0.139354  ... -0.084245  -0.049679\n",
              "number_of_reviews         0.040093  -0.039583  ...  0.030536  -0.029925\n",
              "review_scores_rating     -0.016286   0.011580  ... -0.028997   0.091194\n",
              "bedrooms                  0.707357   0.583860  ...  0.711560   0.474068\n",
              "beds                      0.807453   0.521524  ...  1.000000   0.444780\n",
              "log_price                 0.568918   0.348615  ...  0.444780   1.000000\n",
              "\n",
              "[10 rows x 10 columns]"
            ]
          },
          "metadata": {
            "tags": []
          },
          "execution_count": 16
        }
      ]
    },
    {
      "cell_type": "code",
      "metadata": {
        "colab": {
          "base_uri": "https://localhost:8080/",
          "height": 284
        },
        "id": "Zculv9ITFdPq",
        "outputId": "895d1b84-512b-4b66-d604-28a3c3a00940"
      },
      "source": [
        "df_train.describe()"
      ],
      "execution_count": 17,
      "outputs": [
        {
          "output_type": "execute_result",
          "data": {
            "text/html": [
              "<div>\n",
              "<style scoped>\n",
              "    .dataframe tbody tr th:only-of-type {\n",
              "        vertical-align: middle;\n",
              "    }\n",
              "\n",
              "    .dataframe tbody tr th {\n",
              "        vertical-align: top;\n",
              "    }\n",
              "\n",
              "    .dataframe thead th {\n",
              "        text-align: right;\n",
              "    }\n",
              "</style>\n",
              "<table border=\"1\" class=\"dataframe\">\n",
              "  <thead>\n",
              "    <tr style=\"text-align: right;\">\n",
              "      <th></th>\n",
              "      <th>accommodates</th>\n",
              "      <th>bathrooms</th>\n",
              "      <th>latitude</th>\n",
              "      <th>longitude</th>\n",
              "      <th>number_of_reviews</th>\n",
              "      <th>review_scores_rating</th>\n",
              "      <th>bedrooms</th>\n",
              "      <th>beds</th>\n",
              "      <th>log_price</th>\n",
              "    </tr>\n",
              "  </thead>\n",
              "  <tbody>\n",
              "    <tr>\n",
              "      <th>count</th>\n",
              "      <td>49999.000000</td>\n",
              "      <td>49853.000000</td>\n",
              "      <td>49999.000000</td>\n",
              "      <td>49999.000000</td>\n",
              "      <td>49999.000000</td>\n",
              "      <td>38698.000000</td>\n",
              "      <td>49937.000000</td>\n",
              "      <td>49908.000000</td>\n",
              "      <td>49999.000000</td>\n",
              "    </tr>\n",
              "    <tr>\n",
              "      <th>mean</th>\n",
              "      <td>3.157563</td>\n",
              "      <td>1.235151</td>\n",
              "      <td>38.440220</td>\n",
              "      <td>-92.446264</td>\n",
              "      <td>21.000380</td>\n",
              "      <td>94.055972</td>\n",
              "      <td>1.266776</td>\n",
              "      <td>1.712431</td>\n",
              "      <td>4.781831</td>\n",
              "    </tr>\n",
              "    <tr>\n",
              "      <th>std</th>\n",
              "      <td>2.165059</td>\n",
              "      <td>0.582082</td>\n",
              "      <td>3.082650</td>\n",
              "      <td>21.719824</td>\n",
              "      <td>38.131564</td>\n",
              "      <td>7.870579</td>\n",
              "      <td>0.853917</td>\n",
              "      <td>1.259860</td>\n",
              "      <td>0.716910</td>\n",
              "    </tr>\n",
              "    <tr>\n",
              "      <th>min</th>\n",
              "      <td>1.000000</td>\n",
              "      <td>0.000000</td>\n",
              "      <td>33.338905</td>\n",
              "      <td>-122.511500</td>\n",
              "      <td>0.000000</td>\n",
              "      <td>20.000000</td>\n",
              "      <td>0.000000</td>\n",
              "      <td>0.000000</td>\n",
              "      <td>1.609438</td>\n",
              "    </tr>\n",
              "    <tr>\n",
              "      <th>25%</th>\n",
              "      <td>2.000000</td>\n",
              "      <td>1.000000</td>\n",
              "      <td>34.124873</td>\n",
              "      <td>-118.343090</td>\n",
              "      <td>1.000000</td>\n",
              "      <td>92.000000</td>\n",
              "      <td>1.000000</td>\n",
              "      <td>1.000000</td>\n",
              "      <td>4.317488</td>\n",
              "    </tr>\n",
              "    <tr>\n",
              "      <th>50%</th>\n",
              "      <td>2.000000</td>\n",
              "      <td>1.000000</td>\n",
              "      <td>40.662201</td>\n",
              "      <td>-76.997679</td>\n",
              "      <td>6.000000</td>\n",
              "      <td>96.000000</td>\n",
              "      <td>1.000000</td>\n",
              "      <td>1.000000</td>\n",
              "      <td>4.709530</td>\n",
              "    </tr>\n",
              "    <tr>\n",
              "      <th>75%</th>\n",
              "      <td>4.000000</td>\n",
              "      <td>1.000000</td>\n",
              "      <td>40.745985</td>\n",
              "      <td>-73.954598</td>\n",
              "      <td>24.000000</td>\n",
              "      <td>100.000000</td>\n",
              "      <td>1.000000</td>\n",
              "      <td>2.000000</td>\n",
              "      <td>5.220356</td>\n",
              "    </tr>\n",
              "    <tr>\n",
              "      <th>max</th>\n",
              "      <td>16.000000</td>\n",
              "      <td>8.000000</td>\n",
              "      <td>42.390437</td>\n",
              "      <td>-70.985047</td>\n",
              "      <td>605.000000</td>\n",
              "      <td>100.000000</td>\n",
              "      <td>10.000000</td>\n",
              "      <td>16.000000</td>\n",
              "      <td>7.600402</td>\n",
              "    </tr>\n",
              "  </tbody>\n",
              "</table>\n",
              "</div>"
            ],
            "text/plain": [
              "       accommodates     bathrooms  ...          beds     log_price\n",
              "count  49999.000000  49853.000000  ...  49908.000000  49999.000000\n",
              "mean       3.157563      1.235151  ...      1.712431      4.781831\n",
              "std        2.165059      0.582082  ...      1.259860      0.716910\n",
              "min        1.000000      0.000000  ...      0.000000      1.609438\n",
              "25%        2.000000      1.000000  ...      1.000000      4.317488\n",
              "50%        2.000000      1.000000  ...      1.000000      4.709530\n",
              "75%        4.000000      1.000000  ...      2.000000      5.220356\n",
              "max       16.000000      8.000000  ...     16.000000      7.600402\n",
              "\n",
              "[8 rows x 9 columns]"
            ]
          },
          "metadata": {
            "tags": []
          },
          "execution_count": 17
        }
      ]
    },
    {
      "cell_type": "code",
      "metadata": {
        "colab": {
          "base_uri": "https://localhost:8080/"
        },
        "id": "v3NhPA5EFyMd",
        "outputId": "fa015f5c-2f57-4f3d-c032-ce8848dd7069"
      },
      "source": [
        "df_train.columns"
      ],
      "execution_count": null,
      "outputs": [
        {
          "output_type": "execute_result",
          "data": {
            "text/plain": [
              "Index(['property_type', 'room_type', 'accommodates', 'bathrooms', 'bed_type',\n",
              "       'cancellation_policy', 'cleaning_fee', 'city', 'description',\n",
              "       'instant_bookable', 'latitude', 'longitude', 'number_of_reviews',\n",
              "       'review_scores_rating', 'bedrooms', 'beds', 'log_price'],\n",
              "      dtype='object')"
            ]
          },
          "metadata": {
            "tags": []
          },
          "execution_count": 28
        }
      ]
    },
    {
      "cell_type": "code",
      "metadata": {
        "id": "jAnvVhzhGhfE"
      },
      "source": [
        "df_train=df_train.drop([\"description\",\"instant_bookable\",'city'],axis=1)\n",
        "\n",
        "df_test=df_test.drop([\"description\",\"instant_bookable\",'city'],axis=1)"
      ],
      "execution_count": 18,
      "outputs": []
    },
    {
      "cell_type": "code",
      "metadata": {
        "colab": {
          "base_uri": "https://localhost:8080/"
        },
        "id": "xnTkgZ8sKRtY",
        "outputId": "200da587-f42a-433d-8cc2-f7f32f1a68f0"
      },
      "source": [
        "# finding the missing values\n",
        "df_train.isnull().sum()"
      ],
      "execution_count": 19,
      "outputs": [
        {
          "output_type": "execute_result",
          "data": {
            "text/plain": [
              "property_type               0\n",
              "room_type                   0\n",
              "accommodates                0\n",
              "bathrooms                 146\n",
              "bed_type                    0\n",
              "cancellation_policy         0\n",
              "cleaning_fee                0\n",
              "latitude                    0\n",
              "longitude                   0\n",
              "number_of_reviews           0\n",
              "review_scores_rating    11301\n",
              "bedrooms                   62\n",
              "beds                       91\n",
              "log_price                   0\n",
              "dtype: int64"
            ]
          },
          "metadata": {
            "tags": []
          },
          "execution_count": 19
        }
      ]
    },
    {
      "cell_type": "code",
      "metadata": {
        "colab": {
          "base_uri": "https://localhost:8080/"
        },
        "id": "pJUvHV77V_i1",
        "outputId": "4201a9b6-ee55-4ec5-999a-e1703b733f05"
      },
      "source": [
        "df_test.isnull().sum()"
      ],
      "execution_count": 20,
      "outputs": [
        {
          "output_type": "execute_result",
          "data": {
            "text/plain": [
              "property_type              0\n",
              "room_type                  0\n",
              "accommodates               0\n",
              "bathrooms                 54\n",
              "bed_type                   0\n",
              "cancellation_policy        0\n",
              "cleaning_fee               0\n",
              "latitude                   0\n",
              "longitude                  0\n",
              "number_of_reviews          0\n",
              "review_scores_rating    5421\n",
              "bedrooms                  29\n",
              "beds                      40\n",
              "dtype: int64"
            ]
          },
          "metadata": {
            "tags": []
          },
          "execution_count": 20
        }
      ]
    },
    {
      "cell_type": "code",
      "metadata": {
        "id": "E_8XJMD3K1R3"
      },
      "source": [
        "#filling the missing values\n",
        "df_train[\"bathrooms\"]=df_train[\"bathrooms\"].fillna(df_train[\"bathrooms\"].mode()[0])\n",
        "df_train[\"bedrooms\"]=df_train[\"bedrooms\"].fillna(df_train[\"bedrooms\"].mode()[0])\n",
        "df_train[\"beds\"]=df_train[\"beds\"].fillna(df_train[\"beds\"].mode()[0])\n",
        "df_train[\"review_scores_rating\"]=df_train[\"review_scores_rating\"].fillna(df_train[\"review_scores_rating\"].mean())"
      ],
      "execution_count": 21,
      "outputs": []
    },
    {
      "cell_type": "code",
      "metadata": {
        "id": "EBn5D2P_WOkp"
      },
      "source": [
        "df_test[\"bathrooms\"]=df_test[\"bathrooms\"].fillna(df_test[\"bathrooms\"].mode()[0])\n",
        "df_test[\"bedrooms\"]=df_test[\"bedrooms\"].fillna(df_test[\"bedrooms\"].mode()[0])\n",
        "df_test[\"beds\"]=df_test[\"beds\"].fillna(df_test[\"beds\"].mode()[0])\n",
        "df_test[\"review_scores_rating\"]=df_test[\"review_scores_rating\"].fillna(df_test[\"review_scores_rating\"].mean())"
      ],
      "execution_count": 22,
      "outputs": []
    },
    {
      "cell_type": "code",
      "metadata": {
        "colab": {
          "base_uri": "https://localhost:8080/"
        },
        "id": "aHaKrnNWMv_Y",
        "outputId": "298719d6-f91c-4113-c61d-b176dce5af87"
      },
      "source": [
        "df_train.isnull().sum()"
      ],
      "execution_count": 23,
      "outputs": [
        {
          "output_type": "execute_result",
          "data": {
            "text/plain": [
              "property_type           0\n",
              "room_type               0\n",
              "accommodates            0\n",
              "bathrooms               0\n",
              "bed_type                0\n",
              "cancellation_policy     0\n",
              "cleaning_fee            0\n",
              "latitude                0\n",
              "longitude               0\n",
              "number_of_reviews       0\n",
              "review_scores_rating    0\n",
              "bedrooms                0\n",
              "beds                    0\n",
              "log_price               0\n",
              "dtype: int64"
            ]
          },
          "metadata": {
            "tags": []
          },
          "execution_count": 23
        }
      ]
    },
    {
      "cell_type": "code",
      "metadata": {
        "colab": {
          "base_uri": "https://localhost:8080/"
        },
        "id": "sfO9LXx3Wkx1",
        "outputId": "8c9c0bcb-78c3-4a5d-c7d4-c972e2c4a32d"
      },
      "source": [
        "df_test.isnull().sum()"
      ],
      "execution_count": 24,
      "outputs": [
        {
          "output_type": "execute_result",
          "data": {
            "text/plain": [
              "property_type           0\n",
              "room_type               0\n",
              "accommodates            0\n",
              "bathrooms               0\n",
              "bed_type                0\n",
              "cancellation_policy     0\n",
              "cleaning_fee            0\n",
              "latitude                0\n",
              "longitude               0\n",
              "number_of_reviews       0\n",
              "review_scores_rating    0\n",
              "bedrooms                0\n",
              "beds                    0\n",
              "dtype: int64"
            ]
          },
          "metadata": {
            "tags": []
          },
          "execution_count": 24
        }
      ]
    },
    {
      "cell_type": "markdown",
      "metadata": {
        "id": "qjKzj3-XqzMb"
      },
      "source": [
        "# EDA"
      ]
    },
    {
      "cell_type": "code",
      "metadata": {
        "id": "mNbyDepKen0U"
      },
      "source": [
        "import matplotlib.pyplot as plt"
      ],
      "execution_count": 25,
      "outputs": []
    },
    {
      "cell_type": "code",
      "metadata": {
        "colab": {
          "base_uri": "https://localhost:8080/",
          "height": 299
        },
        "id": "bKfZGTKgjTTj",
        "outputId": "7d3900a3-a37c-461b-c437-70599f761eed"
      },
      "source": [
        "df_train.head()"
      ],
      "execution_count": 26,
      "outputs": [
        {
          "output_type": "execute_result",
          "data": {
            "text/html": [
              "<div>\n",
              "<style scoped>\n",
              "    .dataframe tbody tr th:only-of-type {\n",
              "        vertical-align: middle;\n",
              "    }\n",
              "\n",
              "    .dataframe tbody tr th {\n",
              "        vertical-align: top;\n",
              "    }\n",
              "\n",
              "    .dataframe thead th {\n",
              "        text-align: right;\n",
              "    }\n",
              "</style>\n",
              "<table border=\"1\" class=\"dataframe\">\n",
              "  <thead>\n",
              "    <tr style=\"text-align: right;\">\n",
              "      <th></th>\n",
              "      <th>property_type</th>\n",
              "      <th>room_type</th>\n",
              "      <th>accommodates</th>\n",
              "      <th>bathrooms</th>\n",
              "      <th>bed_type</th>\n",
              "      <th>cancellation_policy</th>\n",
              "      <th>cleaning_fee</th>\n",
              "      <th>latitude</th>\n",
              "      <th>longitude</th>\n",
              "      <th>number_of_reviews</th>\n",
              "      <th>review_scores_rating</th>\n",
              "      <th>bedrooms</th>\n",
              "      <th>beds</th>\n",
              "      <th>log_price</th>\n",
              "    </tr>\n",
              "  </thead>\n",
              "  <tbody>\n",
              "    <tr>\n",
              "      <th>0</th>\n",
              "      <td>Apartment</td>\n",
              "      <td>Entire home/apt</td>\n",
              "      <td>3</td>\n",
              "      <td>1.0</td>\n",
              "      <td>Real Bed</td>\n",
              "      <td>strict</td>\n",
              "      <td>True</td>\n",
              "      <td>40.696524</td>\n",
              "      <td>-73.991617</td>\n",
              "      <td>2</td>\n",
              "      <td>100.000000</td>\n",
              "      <td>1.0</td>\n",
              "      <td>1.0</td>\n",
              "      <td>5.010635</td>\n",
              "    </tr>\n",
              "    <tr>\n",
              "      <th>1</th>\n",
              "      <td>Apartment</td>\n",
              "      <td>Entire home/apt</td>\n",
              "      <td>7</td>\n",
              "      <td>1.0</td>\n",
              "      <td>Real Bed</td>\n",
              "      <td>strict</td>\n",
              "      <td>True</td>\n",
              "      <td>40.766115</td>\n",
              "      <td>-73.989040</td>\n",
              "      <td>6</td>\n",
              "      <td>93.000000</td>\n",
              "      <td>3.0</td>\n",
              "      <td>3.0</td>\n",
              "      <td>5.129899</td>\n",
              "    </tr>\n",
              "    <tr>\n",
              "      <th>2</th>\n",
              "      <td>Apartment</td>\n",
              "      <td>Entire home/apt</td>\n",
              "      <td>5</td>\n",
              "      <td>1.0</td>\n",
              "      <td>Real Bed</td>\n",
              "      <td>moderate</td>\n",
              "      <td>True</td>\n",
              "      <td>40.808110</td>\n",
              "      <td>-73.943756</td>\n",
              "      <td>10</td>\n",
              "      <td>92.000000</td>\n",
              "      <td>1.0</td>\n",
              "      <td>3.0</td>\n",
              "      <td>4.976734</td>\n",
              "    </tr>\n",
              "    <tr>\n",
              "      <th>3</th>\n",
              "      <td>House</td>\n",
              "      <td>Entire home/apt</td>\n",
              "      <td>4</td>\n",
              "      <td>1.0</td>\n",
              "      <td>Real Bed</td>\n",
              "      <td>flexible</td>\n",
              "      <td>True</td>\n",
              "      <td>37.772004</td>\n",
              "      <td>-122.431619</td>\n",
              "      <td>0</td>\n",
              "      <td>94.055972</td>\n",
              "      <td>2.0</td>\n",
              "      <td>2.0</td>\n",
              "      <td>6.620073</td>\n",
              "    </tr>\n",
              "    <tr>\n",
              "      <th>4</th>\n",
              "      <td>Apartment</td>\n",
              "      <td>Entire home/apt</td>\n",
              "      <td>2</td>\n",
              "      <td>1.0</td>\n",
              "      <td>Real Bed</td>\n",
              "      <td>moderate</td>\n",
              "      <td>True</td>\n",
              "      <td>38.925627</td>\n",
              "      <td>-77.034596</td>\n",
              "      <td>4</td>\n",
              "      <td>40.000000</td>\n",
              "      <td>0.0</td>\n",
              "      <td>1.0</td>\n",
              "      <td>4.744932</td>\n",
              "    </tr>\n",
              "  </tbody>\n",
              "</table>\n",
              "</div>"
            ],
            "text/plain": [
              "  property_type        room_type  accommodates  ...  bedrooms beds log_price\n",
              "0     Apartment  Entire home/apt             3  ...       1.0  1.0  5.010635\n",
              "1     Apartment  Entire home/apt             7  ...       3.0  3.0  5.129899\n",
              "2     Apartment  Entire home/apt             5  ...       1.0  3.0  4.976734\n",
              "3         House  Entire home/apt             4  ...       2.0  2.0  6.620073\n",
              "4     Apartment  Entire home/apt             2  ...       0.0  1.0  4.744932\n",
              "\n",
              "[5 rows x 14 columns]"
            ]
          },
          "metadata": {
            "tags": []
          },
          "execution_count": 26
        }
      ]
    },
    {
      "cell_type": "code",
      "metadata": {
        "colab": {
          "base_uri": "https://localhost:8080/",
          "height": 474
        },
        "id": "rxhJq-NVeTCi",
        "outputId": "b6a024ff-7f5f-430c-81bc-8d879bd5e832"
      },
      "source": [
        "df_train.plot.scatter(x='room_type', y='review_scores_rating', figsize=(20,8));"
      ],
      "execution_count": 31,
      "outputs": [
        {
          "output_type": "display_data",
          "data": {
            "image/png": "[encoded data removed]",
            "text/plain": [
              "<Figure size 1440x576 with 1 Axes>"
            ]
          },
          "metadata": {
            "tags": [],
            "needs_background": "light"
          }
        }
      ]
    },
    {
      "cell_type": "code",
      "metadata": {
        "colab": {
          "base_uri": "https://localhost:8080/",
          "height": 482
        },
        "id": "QNmT_e2SeS_p",
        "outputId": "89638096-7db7-469f-e33a-038090e7ddd9"
      },
      "source": [
        "df_train.boxplot(column='log_price', by='room_type', figsize=(20,6), rot=90)"
      ],
      "execution_count": 32,
      "outputs": [
        {
          "output_type": "execute_result",
          "data": {
            "text/plain": [
              "<matplotlib.axes._subplots.AxesSubplot at 0x7efc66a5a978>"
            ]
          },
          "metadata": {
            "tags": []
          },
          "execution_count": 32
        },
        {
          "output_type": "display_data",
          "data": {
            "image/png": "[encoded data removed]",
            "text/plain": [
              "<Figure size 1440x432 with 1 Axes>"
            ]
          },
          "metadata": {
            "tags": [],
            "needs_background": "light"
          }
        }
      ]
    },
    {
      "cell_type": "code",
      "metadata": {
        "colab": {
          "base_uri": "https://localhost:8080/",
          "height": 466
        },
        "id": "ISLN5I3_eS9P",
        "outputId": "9e6928ab-33ef-4ae4-8346-4100e0197391"
      },
      "source": [
        "df_train.boxplot(column='log_price', by='bed_type', figsize=(20,6), rot=90)"
      ],
      "execution_count": 33,
      "outputs": [
        {
          "output_type": "execute_result",
          "data": {
            "text/plain": [
              "<matplotlib.axes._subplots.AxesSubplot at 0x7efc65016ba8>"
            ]
          },
          "metadata": {
            "tags": []
          },
          "execution_count": 33
        },
        {
          "output_type": "display_data",
          "data": {
            "image/png": "[encoded data removed]",
            "text/plain": [
              "<Figure size 1440x432 with 1 Axes>"
            ]
          },
          "metadata": {
            "tags": [],
            "needs_background": "light"
          }
        }
      ]
    },
    {
      "cell_type": "code",
      "metadata": {
        "colab": {
          "base_uri": "https://localhost:8080/",
          "height": 366
        },
        "id": "YLDRVECYT42r",
        "outputId": "ac841540-0547-49d7-e570-ad5ff45120e9"
      },
      "source": [
        "plt.hist(df_train.accommodates,bins=16)"
      ],
      "execution_count": 34,
      "outputs": [
        {
          "output_type": "execute_result",
          "data": {
            "text/plain": [
              "(array([ 6360., 21529.,  5213.,  8178.,  2304.,  3331.,   640.,  1199.,\n",
              "          183.,   472.,    51.,   190.,    24.,    77.,    38.,   210.]),\n",
              " array([ 1.    ,  1.9375,  2.875 ,  3.8125,  4.75  ,  5.6875,  6.625 ,\n",
              "         7.5625,  8.5   ,  9.4375, 10.375 , 11.3125, 12.25  , 13.1875,\n",
              "        14.125 , 15.0625, 16.    ]),\n",
              " <a list of 16 Patch objects>)"
            ]
          },
          "metadata": {
            "tags": []
          },
          "execution_count": 34
        },
        {
          "output_type": "display_data",
          "data": {
            "image/png": "[encoded data removed]",
            "text/plain": [
              "<Figure size 432x288 with 1 Axes>"
            ]
          },
          "metadata": {
            "tags": [],
            "needs_background": "light"
          }
        }
      ]
    },
    {
      "cell_type": "markdown",
      "metadata": {
        "id": "R9NuWz_qrSi9"
      },
      "source": [
        "# Feature Engineering"
      ]
    },
    {
      "cell_type": "code",
      "metadata": {
        "id": "wO01nut2NB0n"
      },
      "source": [
        "#let separate the catrgorical features for encoding process\n",
        "list_cate=[]\n",
        "for i in list(df_train.columns):\n",
        "    if df_train[i].dtype=='object':\n",
        "        list_cate.append(i)\n",
        "   \n"
      ],
      "execution_count": 35,
      "outputs": []
    },
    {
      "cell_type": "code",
      "metadata": {
        "id": "TLeTlYjiQa3s"
      },
      "source": [
        "from sklearn.preprocessing import LabelEncoder\n",
        "le=LabelEncoder()\n",
        "for i in list_cate:\n",
        "    \n",
        "    df_train[i]=le.fit_transform(df_train[i])"
      ],
      "execution_count": 36,
      "outputs": []
    },
    {
      "cell_type": "code",
      "metadata": {
        "id": "2ODu8WuqZZRm"
      },
      "source": [
        "test_cate=[]\n",
        "for i in list(df_test.columns):\n",
        "    if df_test[i].dtype=='object':\n",
        "        test_cate.append(i)"
      ],
      "execution_count": 37,
      "outputs": []
    },
    {
      "cell_type": "code",
      "metadata": {
        "id": "nFB4uKtYZnR3"
      },
      "source": [
        "for i in test_cate:\n",
        "    df_test[i]=le.fit_transform(df_test[i])"
      ],
      "execution_count": 38,
      "outputs": []
    },
    {
      "cell_type": "code",
      "metadata": {
        "id": "-XHMar0PZ3uE"
      },
      "source": [
        "df_train['cleaning_fee']=le.fit_transform(df_train['cleaning_fee'])\n",
        "df_test['cleaning_fee']=le.fit_transform(df_test['cleaning_fee'])"
      ],
      "execution_count": 39,
      "outputs": []
    },
    {
      "cell_type": "code",
      "metadata": {
        "colab": {
          "base_uri": "https://localhost:8080/",
          "height": 215
        },
        "id": "EGn4ExKjRQMH",
        "outputId": "26b5a58d-1830-473b-db6a-b62013ebefa7"
      },
      "source": [
        "df_train.head()"
      ],
      "execution_count": 40,
      "outputs": [
        {
          "output_type": "execute_result",
          "data": {
            "text/html": [
              "<div>\n",
              "<style scoped>\n",
              "    .dataframe tbody tr th:only-of-type {\n",
              "        vertical-align: middle;\n",
              "    }\n",
              "\n",
              "    .dataframe tbody tr th {\n",
              "        vertical-align: top;\n",
              "    }\n",
              "\n",
              "    .dataframe thead th {\n",
              "        text-align: right;\n",
              "    }\n",
              "</style>\n",
              "<table border=\"1\" class=\"dataframe\">\n",
              "  <thead>\n",
              "    <tr style=\"text-align: right;\">\n",
              "      <th></th>\n",
              "      <th>property_type</th>\n",
              "      <th>room_type</th>\n",
              "      <th>accommodates</th>\n",
              "      <th>bathrooms</th>\n",
              "      <th>bed_type</th>\n",
              "      <th>cancellation_policy</th>\n",
              "      <th>cleaning_fee</th>\n",
              "      <th>latitude</th>\n",
              "      <th>longitude</th>\n",
              "      <th>number_of_reviews</th>\n",
              "      <th>review_scores_rating</th>\n",
              "      <th>bedrooms</th>\n",
              "      <th>beds</th>\n",
              "      <th>log_price</th>\n",
              "    </tr>\n",
              "  </thead>\n",
              "  <tbody>\n",
              "    <tr>\n",
              "      <th>0</th>\n",
              "      <td>0</td>\n",
              "      <td>0</td>\n",
              "      <td>3</td>\n",
              "      <td>1.0</td>\n",
              "      <td>4</td>\n",
              "      <td>2</td>\n",
              "      <td>1</td>\n",
              "      <td>40.696524</td>\n",
              "      <td>-73.991617</td>\n",
              "      <td>2</td>\n",
              "      <td>100.000000</td>\n",
              "      <td>1.0</td>\n",
              "      <td>1.0</td>\n",
              "      <td>5.010635</td>\n",
              "    </tr>\n",
              "    <tr>\n",
              "      <th>1</th>\n",
              "      <td>0</td>\n",
              "      <td>0</td>\n",
              "      <td>7</td>\n",
              "      <td>1.0</td>\n",
              "      <td>4</td>\n",
              "      <td>2</td>\n",
              "      <td>1</td>\n",
              "      <td>40.766115</td>\n",
              "      <td>-73.989040</td>\n",
              "      <td>6</td>\n",
              "      <td>93.000000</td>\n",
              "      <td>3.0</td>\n",
              "      <td>3.0</td>\n",
              "      <td>5.129899</td>\n",
              "    </tr>\n",
              "    <tr>\n",
              "      <th>2</th>\n",
              "      <td>0</td>\n",
              "      <td>0</td>\n",
              "      <td>5</td>\n",
              "      <td>1.0</td>\n",
              "      <td>4</td>\n",
              "      <td>1</td>\n",
              "      <td>1</td>\n",
              "      <td>40.808110</td>\n",
              "      <td>-73.943756</td>\n",
              "      <td>10</td>\n",
              "      <td>92.000000</td>\n",
              "      <td>1.0</td>\n",
              "      <td>3.0</td>\n",
              "      <td>4.976734</td>\n",
              "    </tr>\n",
              "    <tr>\n",
              "      <th>3</th>\n",
              "      <td>17</td>\n",
              "      <td>0</td>\n",
              "      <td>4</td>\n",
              "      <td>1.0</td>\n",
              "      <td>4</td>\n",
              "      <td>0</td>\n",
              "      <td>1</td>\n",
              "      <td>37.772004</td>\n",
              "      <td>-122.431619</td>\n",
              "      <td>0</td>\n",
              "      <td>94.055972</td>\n",
              "      <td>2.0</td>\n",
              "      <td>2.0</td>\n",
              "      <td>6.620073</td>\n",
              "    </tr>\n",
              "    <tr>\n",
              "      <th>4</th>\n",
              "      <td>0</td>\n",
              "      <td>0</td>\n",
              "      <td>2</td>\n",
              "      <td>1.0</td>\n",
              "      <td>4</td>\n",
              "      <td>1</td>\n",
              "      <td>1</td>\n",
              "      <td>38.925627</td>\n",
              "      <td>-77.034596</td>\n",
              "      <td>4</td>\n",
              "      <td>40.000000</td>\n",
              "      <td>0.0</td>\n",
              "      <td>1.0</td>\n",
              "      <td>4.744932</td>\n",
              "    </tr>\n",
              "  </tbody>\n",
              "</table>\n",
              "</div>"
            ],
            "text/plain": [
              "   property_type  room_type  accommodates  ...  bedrooms  beds  log_price\n",
              "0              0          0             3  ...       1.0   1.0   5.010635\n",
              "1              0          0             7  ...       3.0   3.0   5.129899\n",
              "2              0          0             5  ...       1.0   3.0   4.976734\n",
              "3             17          0             4  ...       2.0   2.0   6.620073\n",
              "4              0          0             2  ...       0.0   1.0   4.744932\n",
              "\n",
              "[5 rows x 14 columns]"
            ]
          },
          "metadata": {
            "tags": []
          },
          "execution_count": 40
        }
      ]
    },
    {
      "cell_type": "code",
      "metadata": {
        "colab": {
          "base_uri": "https://localhost:8080/",
          "height": 215
        },
        "id": "FiuXGQvGZEDp",
        "outputId": "098f5327-ad98-4759-b264-ca8c0d0e45f5"
      },
      "source": [
        "df_test.head()"
      ],
      "execution_count": 41,
      "outputs": [
        {
          "output_type": "execute_result",
          "data": {
            "text/html": [
              "<div>\n",
              "<style scoped>\n",
              "    .dataframe tbody tr th:only-of-type {\n",
              "        vertical-align: middle;\n",
              "    }\n",
              "\n",
              "    .dataframe tbody tr th {\n",
              "        vertical-align: top;\n",
              "    }\n",
              "\n",
              "    .dataframe thead th {\n",
              "        text-align: right;\n",
              "    }\n",
              "</style>\n",
              "<table border=\"1\" class=\"dataframe\">\n",
              "  <thead>\n",
              "    <tr style=\"text-align: right;\">\n",
              "      <th></th>\n",
              "      <th>property_type</th>\n",
              "      <th>room_type</th>\n",
              "      <th>accommodates</th>\n",
              "      <th>bathrooms</th>\n",
              "      <th>bed_type</th>\n",
              "      <th>cancellation_policy</th>\n",
              "      <th>cleaning_fee</th>\n",
              "      <th>latitude</th>\n",
              "      <th>longitude</th>\n",
              "      <th>number_of_reviews</th>\n",
              "      <th>review_scores_rating</th>\n",
              "      <th>bedrooms</th>\n",
              "      <th>beds</th>\n",
              "    </tr>\n",
              "  </thead>\n",
              "  <tbody>\n",
              "    <tr>\n",
              "      <th>0</th>\n",
              "      <td>0</td>\n",
              "      <td>1</td>\n",
              "      <td>2</td>\n",
              "      <td>1.0</td>\n",
              "      <td>4</td>\n",
              "      <td>2</td>\n",
              "      <td>1</td>\n",
              "      <td>40.705948</td>\n",
              "      <td>-73.915318</td>\n",
              "      <td>0</td>\n",
              "      <td>94.091332</td>\n",
              "      <td>1.0</td>\n",
              "      <td>1.0</td>\n",
              "    </tr>\n",
              "    <tr>\n",
              "      <th>1</th>\n",
              "      <td>0</td>\n",
              "      <td>0</td>\n",
              "      <td>4</td>\n",
              "      <td>1.0</td>\n",
              "      <td>4</td>\n",
              "      <td>1</td>\n",
              "      <td>1</td>\n",
              "      <td>34.118408</td>\n",
              "      <td>-118.317929</td>\n",
              "      <td>24</td>\n",
              "      <td>100.000000</td>\n",
              "      <td>1.0</td>\n",
              "      <td>1.0</td>\n",
              "    </tr>\n",
              "    <tr>\n",
              "      <th>2</th>\n",
              "      <td>0</td>\n",
              "      <td>1</td>\n",
              "      <td>2</td>\n",
              "      <td>1.0</td>\n",
              "      <td>4</td>\n",
              "      <td>0</td>\n",
              "      <td>0</td>\n",
              "      <td>40.707888</td>\n",
              "      <td>-74.015211</td>\n",
              "      <td>0</td>\n",
              "      <td>94.091332</td>\n",
              "      <td>1.0</td>\n",
              "      <td>1.0</td>\n",
              "    </tr>\n",
              "    <tr>\n",
              "      <th>3</th>\n",
              "      <td>0</td>\n",
              "      <td>1</td>\n",
              "      <td>2</td>\n",
              "      <td>1.0</td>\n",
              "      <td>4</td>\n",
              "      <td>0</td>\n",
              "      <td>1</td>\n",
              "      <td>40.721388</td>\n",
              "      <td>-73.945642</td>\n",
              "      <td>12</td>\n",
              "      <td>98.000000</td>\n",
              "      <td>1.0</td>\n",
              "      <td>1.0</td>\n",
              "    </tr>\n",
              "    <tr>\n",
              "      <th>4</th>\n",
              "      <td>0</td>\n",
              "      <td>0</td>\n",
              "      <td>4</td>\n",
              "      <td>1.0</td>\n",
              "      <td>4</td>\n",
              "      <td>1</td>\n",
              "      <td>1</td>\n",
              "      <td>40.682556</td>\n",
              "      <td>-73.943259</td>\n",
              "      <td>13</td>\n",
              "      <td>92.000000</td>\n",
              "      <td>2.0</td>\n",
              "      <td>3.0</td>\n",
              "    </tr>\n",
              "  </tbody>\n",
              "</table>\n",
              "</div>"
            ],
            "text/plain": [
              "   property_type  room_type  accommodates  ...  review_scores_rating  bedrooms  beds\n",
              "0              0          1             2  ...             94.091332       1.0   1.0\n",
              "1              0          0             4  ...            100.000000       1.0   1.0\n",
              "2              0          1             2  ...             94.091332       1.0   1.0\n",
              "3              0          1             2  ...             98.000000       1.0   1.0\n",
              "4              0          0             4  ...             92.000000       2.0   3.0\n",
              "\n",
              "[5 rows x 13 columns]"
            ]
          },
          "metadata": {
            "tags": []
          },
          "execution_count": 41
        }
      ]
    },
    {
      "cell_type": "code",
      "metadata": {
        "id": "42vmbY1cRUoJ"
      },
      "source": [
        "y=df_train['log_price']\n",
        "x=df_train.drop(['log_price'],axis=1)"
      ],
      "execution_count": 42,
      "outputs": []
    },
    {
      "cell_type": "markdown",
      "metadata": {
        "id": "3ZtbSDfgaX2f"
      },
      "source": [
        "# Model building"
      ]
    },
    {
      "cell_type": "code",
      "metadata": {
        "id": "AOdolFBNage6"
      },
      "source": [
        "from sklearn.model_selection import train_test_split\n",
        "x_train,x_test,y_train,y_test=train_test_split(x,y,random_state=0,test_size=0.2)"
      ],
      "execution_count": 43,
      "outputs": []
    },
    {
      "cell_type": "code",
      "metadata": {
        "colab": {
          "base_uri": "https://localhost:8080/"
        },
        "id": "AO-9zK88aqOE",
        "outputId": "7ef31fd4-4624-4ad7-e6c7-97a314ad3f5f"
      },
      "source": [
        "from sklearn.linear_model import LinearRegression\n",
        "lr=LinearRegression()\n",
        "lr.fit(x_train,y_train)"
      ],
      "execution_count": 44,
      "outputs": [
        {
          "output_type": "execute_result",
          "data": {
            "text/plain": [
              "LinearRegression(copy_X=True, fit_intercept=True, n_jobs=None, normalize=False)"
            ]
          },
          "metadata": {
            "tags": []
          },
          "execution_count": 44
        }
      ]
    },
    {
      "cell_type": "code",
      "metadata": {
        "id": "lKIQNaela2jp"
      },
      "source": [
        "pred_1=lr.predict(x_test)"
      ],
      "execution_count": 45,
      "outputs": []
    },
    {
      "cell_type": "code",
      "metadata": {
        "colab": {
          "base_uri": "https://localhost:8080/"
        },
        "id": "HrsyNDdRa9lY",
        "outputId": "f083b859-4b01-4ea6-bcc2-6bbec99e7b0e"
      },
      "source": [
        "from sklearn.metrics import mean_squared_error\n",
        "from math import sqrt\n",
        "\n",
        "rmse = sqrt(mean_squared_error(y_test,pred_1))\n",
        "rmse"
      ],
      "execution_count": 46,
      "outputs": [
        {
          "output_type": "execute_result",
          "data": {
            "text/plain": [
              "0.4932524809358062"
            ]
          },
          "metadata": {
            "tags": []
          },
          "execution_count": 46
        }
      ]
    },
    {
      "cell_type": "code",
      "metadata": {
        "colab": {
          "base_uri": "https://localhost:8080/"
        },
        "id": "PT5cDo4dhtBV",
        "outputId": "df968954-f3ef-4544-c908-f87930c62be9"
      },
      "source": [
        "from sklearn.metrics import r2_score\n",
        "score_1=r2_score(y_test,pred_1)\n",
        "score_1"
      ],
      "execution_count": 47,
      "outputs": [
        {
          "output_type": "execute_result",
          "data": {
            "text/plain": [
              "0.5262626181166644"
            ]
          },
          "metadata": {
            "tags": []
          },
          "execution_count": 47
        }
      ]
    },
    {
      "cell_type": "code",
      "metadata": {
        "id": "M103BuaBkxoa"
      },
      "source": [
        "#lets try another model to reduce the errors\n",
        "\n",
        "from sklearn.ensemble import GradientBoostingRegressor\n",
        "from sklearn.model_selection import GridSearchCV\n",
        "rgb=GradientBoostingRegressor()\n",
        "param_grid={'n_estimators':[100,500], \n",
        "            'learning_rate': [0.1,0.05,0.02],\n",
        "            'max_depth':[4], \n",
        "            'min_samples_leaf':[3], \n",
        "            'max_features':[1.0] }"
      ],
      "execution_count": 48,
      "outputs": []
    },
    {
      "cell_type": "code",
      "metadata": {
        "id": "Fz1dv2rplERN"
      },
      "source": [
        "clf=GridSearchCV(rgb,param_grid,cv=5,verbose=0)"
      ],
      "execution_count": 49,
      "outputs": []
    },
    {
      "cell_type": "code",
      "metadata": {
        "colab": {
          "base_uri": "https://localhost:8080/"
        },
        "id": "GXp8gUSilI_R",
        "outputId": "c076b496-bef7-4038-9500-dc8df4351eb5"
      },
      "source": [
        "clf.fit(x_train,y_train)"
      ],
      "execution_count": 50,
      "outputs": [
        {
          "output_type": "execute_result",
          "data": {
            "text/plain": [
              "GridSearchCV(cv=5, error_score=nan,\n",
              "             estimator=GradientBoostingRegressor(alpha=0.9, ccp_alpha=0.0,\n",
              "                                                 criterion='friedman_mse',\n",
              "                                                 init=None, learning_rate=0.1,\n",
              "                                                 loss='ls', max_depth=3,\n",
              "                                                 max_features=None,\n",
              "                                                 max_leaf_nodes=None,\n",
              "                                                 min_impurity_decrease=0.0,\n",
              "                                                 min_impurity_split=None,\n",
              "                                                 min_samples_leaf=1,\n",
              "                                                 min_samples_split=2,\n",
              "                                                 min_weight_fraction_leaf=0.0,\n",
              "                                                 n_estimators=100,\n",
              "                                                 n_iter_n...\n",
              "                                                 presort='deprecated',\n",
              "                                                 random_state=None,\n",
              "                                                 subsample=1.0, tol=0.0001,\n",
              "                                                 validation_fraction=0.1,\n",
              "                                                 verbose=0, warm_start=False),\n",
              "             iid='deprecated', n_jobs=None,\n",
              "             param_grid={'learning_rate': [0.1, 0.05, 0.02], 'max_depth': [4],\n",
              "                         'max_features': [1.0], 'min_samples_leaf': [3],\n",
              "                         'n_estimators': [100, 500]},\n",
              "             pre_dispatch='2*n_jobs', refit=True, return_train_score=False,\n",
              "             scoring=None, verbose=0)"
            ]
          },
          "metadata": {
            "tags": []
          },
          "execution_count": 50
        }
      ]
    },
    {
      "cell_type": "code",
      "metadata": {
        "id": "unqaYGoClSUE"
      },
      "source": [
        "rgb=GradientBoostingRegressor(learning_rate=0.1,max_depth=4,max_features=1.0,n_estimators=500)\n",
        "rgb.fit(x_train,y_train)\n",
        "pred_2=rgb.predict(x_test)\n",
        "score_2=r2_score(y_test,pred_2)"
      ],
      "execution_count": 51,
      "outputs": []
    },
    {
      "cell_type": "code",
      "metadata": {
        "colab": {
          "base_uri": "https://localhost:8080/"
        },
        "id": "q5GUm7KvqZi8",
        "outputId": "437ff149-25bf-4236-fbfb-b92705ef9cea"
      },
      "source": [
        "score_2"
      ],
      "execution_count": 52,
      "outputs": [
        {
          "output_type": "execute_result",
          "data": {
            "text/plain": [
              "0.7095176973744726"
            ]
          },
          "metadata": {
            "tags": []
          },
          "execution_count": 52
        }
      ]
    },
    {
      "cell_type": "code",
      "metadata": {
        "colab": {
          "base_uri": "https://localhost:8080/"
        },
        "id": "mQGIoUWJq55U",
        "outputId": "63ef7483-7a66-473f-80b7-3b8705b8e896"
      },
      "source": [
        "rmse_2 = sqrt(mean_squared_error(y_test,pred_2))\n",
        "rmse_2"
      ],
      "execution_count": 53,
      "outputs": [
        {
          "output_type": "execute_result",
          "data": {
            "text/plain": [
              "0.38624270485905154"
            ]
          },
          "metadata": {
            "tags": []
          },
          "execution_count": 53
        }
      ]
    },
    {
      "cell_type": "code",
      "metadata": {
        "id": "crTexr1W1AfQ"
      },
      "source": [
        "preds=rgb.predict(df_test)"
      ],
      "execution_count": 54,
      "outputs": []
    },
    {
      "cell_type": "code",
      "metadata": {
        "id": "4LrghXzS1ASd"
      },
      "source": [
        "submission=pd.DataFrame({'id':Id,\n",
        "                       'predictions':preds})"
      ],
      "execution_count": 55,
      "outputs": []
    },
    {
      "cell_type": "code",
      "metadata": {
        "id": "ywuxOVXqrDmm"
      },
      "source": [
        "pd.DataFrame(submission).to_csv(\"case_study_ML.xlsx\",index=False)"
      ],
      "execution_count": 56,
      "outputs": []
    },
    {
      "cell_type": "code",
      "metadata": {
        "colab": {
          "base_uri": "https://localhost:8080/",
          "height": 402
        },
        "id": "VHt0uM6i8oSV",
        "outputId": "5a100855-9223-4302-cb1f-bb7747ec4953"
      },
      "source": [
        "submission"
      ],
      "execution_count": 57,
      "outputs": [
        {
          "output_type": "execute_result",
          "data": {
            "text/html": [
              "<div>\n",
              "<style scoped>\n",
              "    .dataframe tbody tr th:only-of-type {\n",
              "        vertical-align: middle;\n",
              "    }\n",
              "\n",
              "    .dataframe tbody tr th {\n",
              "        vertical-align: top;\n",
              "    }\n",
              "\n",
              "    .dataframe thead th {\n",
              "        text-align: right;\n",
              "    }\n",
              "</style>\n",
              "<table border=\"1\" class=\"dataframe\">\n",
              "  <thead>\n",
              "    <tr style=\"text-align: right;\">\n",
              "      <th></th>\n",
              "      <th>id</th>\n",
              "      <th>predictions</th>\n",
              "    </tr>\n",
              "  </thead>\n",
              "  <tbody>\n",
              "    <tr>\n",
              "      <th>0</th>\n",
              "      <td>5979389</td>\n",
              "      <td>4.116650</td>\n",
              "    </tr>\n",
              "    <tr>\n",
              "      <th>1</th>\n",
              "      <td>13488121</td>\n",
              "      <td>4.929458</td>\n",
              "    </tr>\n",
              "    <tr>\n",
              "      <th>2</th>\n",
              "      <td>8121643</td>\n",
              "      <td>4.781127</td>\n",
              "    </tr>\n",
              "    <tr>\n",
              "      <th>3</th>\n",
              "      <td>16490010</td>\n",
              "      <td>4.382610</td>\n",
              "    </tr>\n",
              "    <tr>\n",
              "      <th>4</th>\n",
              "      <td>16274069</td>\n",
              "      <td>4.875485</td>\n",
              "    </tr>\n",
              "    <tr>\n",
              "      <th>...</th>\n",
              "      <td>...</td>\n",
              "      <td>...</td>\n",
              "    </tr>\n",
              "    <tr>\n",
              "      <th>24106</th>\n",
              "      <td>14549287</td>\n",
              "      <td>4.166652</td>\n",
              "    </tr>\n",
              "    <tr>\n",
              "      <th>24107</th>\n",
              "      <td>13281809</td>\n",
              "      <td>5.356641</td>\n",
              "    </tr>\n",
              "    <tr>\n",
              "      <th>24108</th>\n",
              "      <td>18688039</td>\n",
              "      <td>4.981454</td>\n",
              "    </tr>\n",
              "    <tr>\n",
              "      <th>24109</th>\n",
              "      <td>17045948</td>\n",
              "      <td>5.264359</td>\n",
              "    </tr>\n",
              "    <tr>\n",
              "      <th>24110</th>\n",
              "      <td>3534845</td>\n",
              "      <td>4.594506</td>\n",
              "    </tr>\n",
              "  </tbody>\n",
              "</table>\n",
              "<p>24111 rows × 2 columns</p>\n",
              "</div>"
            ],
            "text/plain": [
              "             id  predictions\n",
              "0       5979389     4.116650\n",
              "1      13488121     4.929458\n",
              "2       8121643     4.781127\n",
              "3      16490010     4.382610\n",
              "4      16274069     4.875485\n",
              "...         ...          ...\n",
              "24106  14549287     4.166652\n",
              "24107  13281809     5.356641\n",
              "24108  18688039     4.981454\n",
              "24109  17045948     5.264359\n",
              "24110   3534845     4.594506\n",
              "\n",
              "[24111 rows x 2 columns]"
            ]
          },
          "metadata": {
            "tags": []
          },
          "execution_count": 57
        }
      ]
    },
    {
      "cell_type": "code",
      "metadata": {
        "colab": {
          "base_uri": "https://localhost:8080/",
          "height": 17
        },
        "id": "-MSODFMF8rfG",
        "outputId": "eae9fdad-ea0b-4631-f6fe-ffe9a217066e"
      },
      "source": [
        "from google.colab import files\n",
        "files.download(\"case_study_ML.xlsx\")"
      ],
      "execution_count": 58,
      "outputs": [
        {
          "output_type": "display_data",
          "data": {
            "application/javascript": [
              "\n",
              "    async function download(id, filename, size) {\n",
              "      if (!google.colab.kernel.accessAllowed) {\n",
              "        return;\n",
              "      }\n",
              "      const div = document.createElement('div');\n",
              "      const label = document.createElement('label');\n",
              "      label.textContent = `Downloading \"${filename}\": `;\n",
              "      div.appendChild(label);\n",
              "      const progress = document.createElement('progress');\n",
              "      progress.max = size;\n",
              "      div.appendChild(progress);\n",
              "      document.body.appendChild(div);\n",
              "\n",
              "      const buffers = [];\n",
              "      let downloaded = 0;\n",
              "\n",
              "      const channel = await google.colab.kernel.comms.open(id);\n",
              "      // Send a message to notify the kernel that we're ready.\n",
              "      channel.send({})\n",
              "\n",
              "      for await (const message of channel.messages) {\n",
              "        // Send a message to notify the kernel that we're ready.\n",
              "        channel.send({})\n",
              "        if (message.buffers) {\n",
              "          for (const buffer of message.buffers) {\n",
              "            buffers.push(buffer);\n",
              "            downloaded += buffer.byteLength;\n",
              "            progress.value = downloaded;\n",
              "          }\n",
              "        }\n",
              "      }\n",
              "      const blob = new Blob(buffers, {type: 'application/binary'});\n",
              "      const a = document.createElement('a');\n",
              "      a.href = window.URL.createObjectURL(blob);\n",
              "      a.download = filename;\n",
              "      div.appendChild(a);\n",
              "      a.click();\n",
              "      div.remove();\n",
              "    }\n",
              "  "
            ],
            "text/plain": [
              "<IPython.core.display.Javascript object>"
            ]
          },
          "metadata": {
            "tags": []
          }
        },
        {
          "output_type": "display_data",
          "data": {
            "application/javascript": [
              "download(\"download_6c085cd2-b3ca-45b7-abdc-b6910c287e7d\", \"case_study_ML.xlsx\", 640572)"
            ],
            "text/plain": [
              "<IPython.core.display.Javascript object>"
            ]
          },
          "metadata": {
            "tags": []
          }
        }
      ]
    },
    {
      "cell_type": "markdown",
      "metadata": {
        "id": "eR_HYSJO_KOH"
      },
      "source": [
        "# Building a neural network model"
      ]
    },
    {
      "cell_type": "code",
      "metadata": {
        "id": "285ju6Hb_XGD"
      },
      "source": [
        "from keras import models, layers, optimizers, regularizers\n",
        "from keras.utils.vis_utils import model_to_dot\n",
        "from IPython.display import SVG"
      ],
      "execution_count": 59,
      "outputs": []
    },
    {
      "cell_type": "code",
      "metadata": {
        "id": "JzKzXz7f_fER"
      },
      "source": [
        "# Building the model\n",
        "nn2 = models.Sequential()\n",
        "nn2.add(layers.Dense(128, input_shape=(x_train.shape[1],), activation='relu'))\n",
        "nn2.add(layers.Dense(256, activation='relu'))\n",
        "nn2.add(layers.Dense(256, activation='relu'))\n",
        "nn2.add(layers.Dense(1, activation='linear'))"
      ],
      "execution_count": 61,
      "outputs": []
    },
    {
      "cell_type": "code",
      "metadata": {
        "id": "3cuSGqWS_fBA"
      },
      "source": [
        "# Compiling the model\n",
        "nn2.compile(loss='mean_squared_error',\n",
        "            optimizer='adam',\n",
        "            metrics=['mean_squared_error'])"
      ],
      "execution_count": 62,
      "outputs": []
    },
    {
      "cell_type": "code",
      "metadata": {
        "colab": {
          "base_uri": "https://localhost:8080/"
        },
        "id": "Gf9bze7p_e8q",
        "outputId": "6664a020-ebe4-4d2a-efd5-740751bfdf48"
      },
      "source": [
        "# Training the model\n",
        "nn2_history= nn2.fit(x_train,\n",
        "                  y_train,\n",
        "                  epochs=100,\n",
        "                  batch_size=256,\n",
        "                  validation_split = 0.1)"
      ],
      "execution_count": 67,
      "outputs": [
        {
          "output_type": "stream",
          "text": [
            "Epoch 1/100\n",
            "141/141 [==============================] - 0s 3ms/step - loss: 0.2065 - mean_squared_error: 0.2065 - val_loss: 0.2103 - val_mean_squared_error: 0.2103\n",
            "Epoch 2/100\n",
            "141/141 [==============================] - 0s 2ms/step - loss: 0.2113 - mean_squared_error: 0.2113 - val_loss: 0.2144 - val_mean_squared_error: 0.2144\n",
            "Epoch 3/100\n",
            "141/141 [==============================] - 0s 2ms/step - loss: 0.2046 - mean_squared_error: 0.2046 - val_loss: 0.2113 - val_mean_squared_error: 0.2113\n",
            "Epoch 4/100\n",
            "141/141 [==============================] - 0s 3ms/step - loss: 0.2036 - mean_squared_error: 0.2036 - val_loss: 0.2064 - val_mean_squared_error: 0.2064\n",
            "Epoch 5/100\n",
            "141/141 [==============================] - 0s 2ms/step - loss: 0.2023 - mean_squared_error: 0.2023 - val_loss: 0.2210 - val_mean_squared_error: 0.2210\n",
            "Epoch 6/100\n",
            "141/141 [==============================] - 0s 3ms/step - loss: 0.2028 - mean_squared_error: 0.2028 - val_loss: 0.2062 - val_mean_squared_error: 0.2062\n",
            "Epoch 7/100\n",
            "141/141 [==============================] - 0s 2ms/step - loss: 0.2043 - mean_squared_error: 0.2043 - val_loss: 0.2047 - val_mean_squared_error: 0.2047\n",
            "Epoch 8/100\n",
            "141/141 [==============================] - 0s 2ms/step - loss: 0.2035 - mean_squared_error: 0.2035 - val_loss: 0.2230 - val_mean_squared_error: 0.2230\n",
            "Epoch 9/100\n",
            "141/141 [==============================] - 0s 3ms/step - loss: 0.2021 - mean_squared_error: 0.2021 - val_loss: 0.2054 - val_mean_squared_error: 0.2054\n",
            "Epoch 10/100\n",
            "141/141 [==============================] - 0s 3ms/step - loss: 0.2053 - mean_squared_error: 0.2053 - val_loss: 0.2106 - val_mean_squared_error: 0.2106\n",
            "Epoch 11/100\n",
            "141/141 [==============================] - 0s 3ms/step - loss: 0.2022 - mean_squared_error: 0.2022 - val_loss: 0.2116 - val_mean_squared_error: 0.2116\n",
            "Epoch 12/100\n",
            "141/141 [==============================] - 0s 3ms/step - loss: 0.2011 - mean_squared_error: 0.2011 - val_loss: 0.2030 - val_mean_squared_error: 0.2030\n",
            "Epoch 13/100\n",
            "141/141 [==============================] - 0s 3ms/step - loss: 0.1991 - mean_squared_error: 0.1991 - val_loss: 0.2157 - val_mean_squared_error: 0.2157\n",
            "Epoch 14/100\n",
            "141/141 [==============================] - 0s 2ms/step - loss: 0.2037 - mean_squared_error: 0.2037 - val_loss: 0.2039 - val_mean_squared_error: 0.2039\n",
            "Epoch 15/100\n",
            "141/141 [==============================] - 0s 2ms/step - loss: 0.2010 - mean_squared_error: 0.2010 - val_loss: 0.2067 - val_mean_squared_error: 0.2067\n",
            "Epoch 16/100\n",
            "141/141 [==============================] - 0s 2ms/step - loss: 0.2030 - mean_squared_error: 0.2030 - val_loss: 0.2019 - val_mean_squared_error: 0.2019\n",
            "Epoch 17/100\n",
            "141/141 [==============================] - 0s 3ms/step - loss: 0.2010 - mean_squared_error: 0.2010 - val_loss: 0.2270 - val_mean_squared_error: 0.2270\n",
            "Epoch 18/100\n",
            "141/141 [==============================] - 0s 3ms/step - loss: 0.2025 - mean_squared_error: 0.2025 - val_loss: 0.2126 - val_mean_squared_error: 0.2126\n",
            "Epoch 19/100\n",
            "141/141 [==============================] - 0s 2ms/step - loss: 0.2041 - mean_squared_error: 0.2041 - val_loss: 0.2108 - val_mean_squared_error: 0.2108\n",
            "Epoch 20/100\n",
            "141/141 [==============================] - 0s 2ms/step - loss: 0.2026 - mean_squared_error: 0.2026 - val_loss: 0.2044 - val_mean_squared_error: 0.2044\n",
            "Epoch 21/100\n",
            "141/141 [==============================] - 0s 3ms/step - loss: 0.2019 - mean_squared_error: 0.2019 - val_loss: 0.2054 - val_mean_squared_error: 0.2054\n",
            "Epoch 22/100\n",
            "141/141 [==============================] - 0s 3ms/step - loss: 0.2009 - mean_squared_error: 0.2009 - val_loss: 0.2038 - val_mean_squared_error: 0.2038\n",
            "Epoch 23/100\n",
            "141/141 [==============================] - 0s 2ms/step - loss: 0.1995 - mean_squared_error: 0.1995 - val_loss: 0.2169 - val_mean_squared_error: 0.2169\n",
            "Epoch 24/100\n",
            "141/141 [==============================] - 0s 2ms/step - loss: 0.1998 - mean_squared_error: 0.1998 - val_loss: 0.2096 - val_mean_squared_error: 0.2096\n",
            "Epoch 25/100\n",
            "141/141 [==============================] - 0s 3ms/step - loss: 0.1985 - mean_squared_error: 0.1985 - val_loss: 0.2092 - val_mean_squared_error: 0.2092\n",
            "Epoch 26/100\n",
            "141/141 [==============================] - 0s 3ms/step - loss: 0.1996 - mean_squared_error: 0.1996 - val_loss: 0.2195 - val_mean_squared_error: 0.2195\n",
            "Epoch 27/100\n",
            "141/141 [==============================] - 0s 3ms/step - loss: 0.1997 - mean_squared_error: 0.1997 - val_loss: 0.2035 - val_mean_squared_error: 0.2035\n",
            "Epoch 28/100\n",
            "141/141 [==============================] - 0s 2ms/step - loss: 0.1983 - mean_squared_error: 0.1983 - val_loss: 0.2109 - val_mean_squared_error: 0.2109\n",
            "Epoch 29/100\n",
            "141/141 [==============================] - 0s 3ms/step - loss: 0.1976 - mean_squared_error: 0.1976 - val_loss: 0.2081 - val_mean_squared_error: 0.2081\n",
            "Epoch 30/100\n",
            "141/141 [==============================] - 0s 2ms/step - loss: 0.1977 - mean_squared_error: 0.1977 - val_loss: 0.2064 - val_mean_squared_error: 0.2064\n",
            "Epoch 31/100\n",
            "141/141 [==============================] - 0s 3ms/step - loss: 0.1987 - mean_squared_error: 0.1987 - val_loss: 0.2042 - val_mean_squared_error: 0.2042\n",
            "Epoch 32/100\n",
            "141/141 [==============================] - 0s 2ms/step - loss: 0.1976 - mean_squared_error: 0.1976 - val_loss: 0.2137 - val_mean_squared_error: 0.2137\n",
            "Epoch 33/100\n",
            "141/141 [==============================] - 0s 3ms/step - loss: 0.1992 - mean_squared_error: 0.1992 - val_loss: 0.2036 - val_mean_squared_error: 0.2036\n",
            "Epoch 34/100\n",
            "141/141 [==============================] - 0s 3ms/step - loss: 0.1983 - mean_squared_error: 0.1983 - val_loss: 0.2118 - val_mean_squared_error: 0.2118\n",
            "Epoch 35/100\n",
            "141/141 [==============================] - 0s 3ms/step - loss: 0.1980 - mean_squared_error: 0.1980 - val_loss: 0.2053 - val_mean_squared_error: 0.2053\n",
            "Epoch 36/100\n",
            "141/141 [==============================] - 0s 3ms/step - loss: 0.1997 - mean_squared_error: 0.1997 - val_loss: 0.2081 - val_mean_squared_error: 0.2081\n",
            "Epoch 37/100\n",
            "141/141 [==============================] - 0s 2ms/step - loss: 0.1968 - mean_squared_error: 0.1968 - val_loss: 0.2069 - val_mean_squared_error: 0.2069\n",
            "Epoch 38/100\n",
            "141/141 [==============================] - 0s 3ms/step - loss: 0.1988 - mean_squared_error: 0.1988 - val_loss: 0.2063 - val_mean_squared_error: 0.2063\n",
            "Epoch 39/100\n",
            "141/141 [==============================] - 0s 2ms/step - loss: 0.1982 - mean_squared_error: 0.1982 - val_loss: 0.2071 - val_mean_squared_error: 0.2071\n",
            "Epoch 40/100\n",
            "141/141 [==============================] - 0s 3ms/step - loss: 0.1979 - mean_squared_error: 0.1979 - val_loss: 0.2172 - val_mean_squared_error: 0.2172\n",
            "Epoch 41/100\n",
            "141/141 [==============================] - 0s 3ms/step - loss: 0.1978 - mean_squared_error: 0.1978 - val_loss: 0.2126 - val_mean_squared_error: 0.2126\n",
            "Epoch 42/100\n",
            "141/141 [==============================] - 0s 2ms/step - loss: 0.1977 - mean_squared_error: 0.1977 - val_loss: 0.2089 - val_mean_squared_error: 0.2089\n",
            "Epoch 43/100\n",
            "141/141 [==============================] - 0s 3ms/step - loss: 0.1961 - mean_squared_error: 0.1961 - val_loss: 0.2157 - val_mean_squared_error: 0.2157\n",
            "Epoch 44/100\n",
            "141/141 [==============================] - 0s 2ms/step - loss: 0.1955 - mean_squared_error: 0.1955 - val_loss: 0.2109 - val_mean_squared_error: 0.2109\n",
            "Epoch 45/100\n",
            "141/141 [==============================] - 0s 2ms/step - loss: 0.1972 - mean_squared_error: 0.1972 - val_loss: 0.2044 - val_mean_squared_error: 0.2044\n",
            "Epoch 46/100\n",
            "141/141 [==============================] - 0s 3ms/step - loss: 0.1966 - mean_squared_error: 0.1966 - val_loss: 0.2029 - val_mean_squared_error: 0.2029\n",
            "Epoch 47/100\n",
            "141/141 [==============================] - 0s 3ms/step - loss: 0.1943 - mean_squared_error: 0.1943 - val_loss: 0.2047 - val_mean_squared_error: 0.2047\n",
            "Epoch 48/100\n",
            "141/141 [==============================] - 0s 3ms/step - loss: 0.2004 - mean_squared_error: 0.2004 - val_loss: 0.2085 - val_mean_squared_error: 0.2085\n",
            "Epoch 49/100\n",
            "141/141 [==============================] - 0s 3ms/step - loss: 0.1957 - mean_squared_error: 0.1957 - val_loss: 0.2053 - val_mean_squared_error: 0.2053\n",
            "Epoch 50/100\n",
            "141/141 [==============================] - 0s 3ms/step - loss: 0.1941 - mean_squared_error: 0.1941 - val_loss: 0.2109 - val_mean_squared_error: 0.2109\n",
            "Epoch 51/100\n",
            "141/141 [==============================] - 0s 2ms/step - loss: 0.1958 - mean_squared_error: 0.1958 - val_loss: 0.2060 - val_mean_squared_error: 0.2060\n",
            "Epoch 52/100\n",
            "141/141 [==============================] - 0s 2ms/step - loss: 0.1955 - mean_squared_error: 0.1955 - val_loss: 0.2091 - val_mean_squared_error: 0.2091\n",
            "Epoch 53/100\n",
            "141/141 [==============================] - 0s 3ms/step - loss: 0.1938 - mean_squared_error: 0.1938 - val_loss: 0.2117 - val_mean_squared_error: 0.2117\n",
            "Epoch 54/100\n",
            "141/141 [==============================] - 0s 3ms/step - loss: 0.1959 - mean_squared_error: 0.1959 - val_loss: 0.2040 - val_mean_squared_error: 0.2040\n",
            "Epoch 55/100\n",
            "141/141 [==============================] - 0s 2ms/step - loss: 0.1940 - mean_squared_error: 0.1940 - val_loss: 0.2061 - val_mean_squared_error: 0.2061\n",
            "Epoch 56/100\n",
            "141/141 [==============================] - 0s 3ms/step - loss: 0.1957 - mean_squared_error: 0.1957 - val_loss: 0.2056 - val_mean_squared_error: 0.2056\n",
            "Epoch 57/100\n",
            "141/141 [==============================] - 0s 3ms/step - loss: 0.1961 - mean_squared_error: 0.1961 - val_loss: 0.2093 - val_mean_squared_error: 0.2093\n",
            "Epoch 58/100\n",
            "141/141 [==============================] - 0s 3ms/step - loss: 0.1955 - mean_squared_error: 0.1955 - val_loss: 0.2220 - val_mean_squared_error: 0.2220\n",
            "Epoch 59/100\n",
            "141/141 [==============================] - 0s 3ms/step - loss: 0.1954 - mean_squared_error: 0.1954 - val_loss: 0.2076 - val_mean_squared_error: 0.2076\n",
            "Epoch 60/100\n",
            "141/141 [==============================] - 0s 3ms/step - loss: 0.1936 - mean_squared_error: 0.1936 - val_loss: 0.2040 - val_mean_squared_error: 0.2040\n",
            "Epoch 61/100\n",
            "141/141 [==============================] - 0s 3ms/step - loss: 0.1935 - mean_squared_error: 0.1935 - val_loss: 0.2115 - val_mean_squared_error: 0.2115\n",
            "Epoch 62/100\n",
            "141/141 [==============================] - 0s 3ms/step - loss: 0.1967 - mean_squared_error: 0.1967 - val_loss: 0.2079 - val_mean_squared_error: 0.2079\n",
            "Epoch 63/100\n",
            "141/141 [==============================] - 0s 3ms/step - loss: 0.1924 - mean_squared_error: 0.1924 - val_loss: 0.2064 - val_mean_squared_error: 0.2064\n",
            "Epoch 64/100\n",
            "141/141 [==============================] - 0s 3ms/step - loss: 0.1931 - mean_squared_error: 0.1931 - val_loss: 0.2086 - val_mean_squared_error: 0.2086\n",
            "Epoch 65/100\n",
            "141/141 [==============================] - 0s 3ms/step - loss: 0.1938 - mean_squared_error: 0.1938 - val_loss: 0.2032 - val_mean_squared_error: 0.2032\n",
            "Epoch 66/100\n",
            "141/141 [==============================] - 0s 3ms/step - loss: 0.1927 - mean_squared_error: 0.1927 - val_loss: 0.2085 - val_mean_squared_error: 0.2085\n",
            "Epoch 67/100\n",
            "141/141 [==============================] - 0s 3ms/step - loss: 0.1935 - mean_squared_error: 0.1935 - val_loss: 0.2074 - val_mean_squared_error: 0.2074\n",
            "Epoch 68/100\n",
            "141/141 [==============================] - 0s 3ms/step - loss: 0.1941 - mean_squared_error: 0.1941 - val_loss: 0.2036 - val_mean_squared_error: 0.2036\n",
            "Epoch 69/100\n",
            "141/141 [==============================] - 0s 2ms/step - loss: 0.1920 - mean_squared_error: 0.1920 - val_loss: 0.2047 - val_mean_squared_error: 0.2047\n",
            "Epoch 70/100\n",
            "141/141 [==============================] - 0s 3ms/step - loss: 0.1934 - mean_squared_error: 0.1934 - val_loss: 0.2143 - val_mean_squared_error: 0.2143\n",
            "Epoch 71/100\n",
            "141/141 [==============================] - 0s 3ms/step - loss: 0.1938 - mean_squared_error: 0.1938 - val_loss: 0.2100 - val_mean_squared_error: 0.2100\n",
            "Epoch 72/100\n",
            "141/141 [==============================] - 0s 3ms/step - loss: 0.1915 - mean_squared_error: 0.1915 - val_loss: 0.2093 - val_mean_squared_error: 0.2093\n",
            "Epoch 73/100\n",
            "141/141 [==============================] - 0s 3ms/step - loss: 0.1920 - mean_squared_error: 0.1920 - val_loss: 0.2046 - val_mean_squared_error: 0.2046\n",
            "Epoch 74/100\n",
            "141/141 [==============================] - 0s 3ms/step - loss: 0.1927 - mean_squared_error: 0.1927 - val_loss: 0.2052 - val_mean_squared_error: 0.2052\n",
            "Epoch 75/100\n",
            "141/141 [==============================] - 0s 3ms/step - loss: 0.1903 - mean_squared_error: 0.1903 - val_loss: 0.2057 - val_mean_squared_error: 0.2057\n",
            "Epoch 76/100\n",
            "141/141 [==============================] - 0s 3ms/step - loss: 0.1915 - mean_squared_error: 0.1915 - val_loss: 0.2077 - val_mean_squared_error: 0.2077\n",
            "Epoch 77/100\n",
            "141/141 [==============================] - 0s 3ms/step - loss: 0.1915 - mean_squared_error: 0.1915 - val_loss: 0.2085 - val_mean_squared_error: 0.2085\n",
            "Epoch 78/100\n",
            "141/141 [==============================] - 0s 2ms/step - loss: 0.1919 - mean_squared_error: 0.1919 - val_loss: 0.2086 - val_mean_squared_error: 0.2086\n",
            "Epoch 79/100\n",
            "141/141 [==============================] - 0s 3ms/step - loss: 0.1916 - mean_squared_error: 0.1916 - val_loss: 0.2076 - val_mean_squared_error: 0.2076\n",
            "Epoch 80/100\n",
            "141/141 [==============================] - 0s 2ms/step - loss: 0.1924 - mean_squared_error: 0.1924 - val_loss: 0.2114 - val_mean_squared_error: 0.2114\n",
            "Epoch 81/100\n",
            "141/141 [==============================] - 0s 3ms/step - loss: 0.1911 - mean_squared_error: 0.1911 - val_loss: 0.2049 - val_mean_squared_error: 0.2049\n",
            "Epoch 82/100\n",
            "141/141 [==============================] - 0s 3ms/step - loss: 0.1904 - mean_squared_error: 0.1904 - val_loss: 0.2056 - val_mean_squared_error: 0.2056\n",
            "Epoch 83/100\n",
            "141/141 [==============================] - 0s 2ms/step - loss: 0.1914 - mean_squared_error: 0.1914 - val_loss: 0.2083 - val_mean_squared_error: 0.2083\n",
            "Epoch 84/100\n",
            "141/141 [==============================] - 0s 3ms/step - loss: 0.1913 - mean_squared_error: 0.1913 - val_loss: 0.2128 - val_mean_squared_error: 0.2128\n",
            "Epoch 85/100\n",
            "141/141 [==============================] - 0s 3ms/step - loss: 0.1911 - mean_squared_error: 0.1911 - val_loss: 0.2087 - val_mean_squared_error: 0.2087\n",
            "Epoch 86/100\n",
            "141/141 [==============================] - 0s 3ms/step - loss: 0.1923 - mean_squared_error: 0.1923 - val_loss: 0.2046 - val_mean_squared_error: 0.2046\n",
            "Epoch 87/100\n",
            "141/141 [==============================] - 0s 3ms/step - loss: 0.1894 - mean_squared_error: 0.1894 - val_loss: 0.2069 - val_mean_squared_error: 0.2069\n",
            "Epoch 88/100\n",
            "141/141 [==============================] - 0s 2ms/step - loss: 0.1886 - mean_squared_error: 0.1886 - val_loss: 0.2110 - val_mean_squared_error: 0.2110\n",
            "Epoch 89/100\n",
            "141/141 [==============================] - 0s 2ms/step - loss: 0.1892 - mean_squared_error: 0.1892 - val_loss: 0.2146 - val_mean_squared_error: 0.2146\n",
            "Epoch 90/100\n",
            "141/141 [==============================] - 0s 3ms/step - loss: 0.1890 - mean_squared_error: 0.1890 - val_loss: 0.2116 - val_mean_squared_error: 0.2116\n",
            "Epoch 91/100\n",
            "141/141 [==============================] - 0s 3ms/step - loss: 0.1895 - mean_squared_error: 0.1895 - val_loss: 0.2084 - val_mean_squared_error: 0.2084\n",
            "Epoch 92/100\n",
            "141/141 [==============================] - 0s 3ms/step - loss: 0.1906 - mean_squared_error: 0.1906 - val_loss: 0.2109 - val_mean_squared_error: 0.2109\n",
            "Epoch 93/100\n",
            "141/141 [==============================] - 0s 2ms/step - loss: 0.1918 - mean_squared_error: 0.1918 - val_loss: 0.2095 - val_mean_squared_error: 0.2095\n",
            "Epoch 94/100\n",
            "141/141 [==============================] - 0s 3ms/step - loss: 0.1891 - mean_squared_error: 0.1891 - val_loss: 0.2101 - val_mean_squared_error: 0.2101\n",
            "Epoch 95/100\n",
            "141/141 [==============================] - 0s 3ms/step - loss: 0.1880 - mean_squared_error: 0.1880 - val_loss: 0.2103 - val_mean_squared_error: 0.2103\n",
            "Epoch 96/100\n",
            "141/141 [==============================] - 0s 3ms/step - loss: 0.1880 - mean_squared_error: 0.1880 - val_loss: 0.2079 - val_mean_squared_error: 0.2079\n",
            "Epoch 97/100\n",
            "141/141 [==============================] - 0s 3ms/step - loss: 0.1905 - mean_squared_error: 0.1905 - val_loss: 0.2083 - val_mean_squared_error: 0.2083\n",
            "Epoch 98/100\n",
            "141/141 [==============================] - 0s 3ms/step - loss: 0.1895 - mean_squared_error: 0.1895 - val_loss: 0.2104 - val_mean_squared_error: 0.2104\n",
            "Epoch 99/100\n",
            "141/141 [==============================] - 0s 3ms/step - loss: 0.1901 - mean_squared_error: 0.1901 - val_loss: 0.2141 - val_mean_squared_error: 0.2141\n",
            "Epoch 100/100\n",
            "141/141 [==============================] - 0s 2ms/step - loss: 0.1892 - mean_squared_error: 0.1892 - val_loss: 0.2119 - val_mean_squared_error: 0.2119\n"
          ],
          "name": "stdout"
        }
      ]
    },
    {
      "cell_type": "code",
      "metadata": {
        "id": "H9h0Q2zpHYvg"
      },
      "source": [
        "pred_3=nn2.predict(x_test)\n",
        "score_3=r2_score(y_test,pred_3)"
      ],
      "execution_count": 78,
      "outputs": []
    },
    {
      "cell_type": "code",
      "metadata": {
        "colab": {
          "base_uri": "https://localhost:8080/"
        },
        "id": "cFaIKLCJHYsH",
        "outputId": "f439179c-c7f4-4f3c-8ad5-97e5677dbb72"
      },
      "source": [
        "score_3"
      ],
      "execution_count": 79,
      "outputs": [
        {
          "output_type": "execute_result",
          "data": {
            "text/plain": [
              "0.5946243276013177"
            ]
          },
          "metadata": {
            "tags": []
          },
          "execution_count": 79
        }
      ]
    },
    {
      "cell_type": "code",
      "metadata": {
        "colab": {
          "base_uri": "https://localhost:8080/"
        },
        "id": "FTh6q6bKHYfg",
        "outputId": "3304b908-d4a8-48f6-c6fb-19bb9f2fa088"
      },
      "source": [
        "rmse_3 = sqrt(mean_squared_error(y_test,pred_3))\n",
        "rmse_3"
      ],
      "execution_count": 80,
      "outputs": [
        {
          "output_type": "execute_result",
          "data": {
            "text/plain": [
              "0.45627775028208073"
            ]
          },
          "metadata": {
            "tags": []
          },
          "execution_count": 80
        }
      ]
    }
  ]
}